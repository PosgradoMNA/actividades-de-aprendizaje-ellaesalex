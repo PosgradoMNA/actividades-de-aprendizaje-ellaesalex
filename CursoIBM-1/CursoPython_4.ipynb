{
  "nbformat": 4,
  "nbformat_minor": 0,
  "metadata": {
    "colab": {
      "provenance": [],
      "collapsed_sections": [
        "DQVGsS62ks7l"
      ],
      "authorship_tag": "ABX9TyM4Qcoqt3zRkrE3iaTLkYxZ",
      "include_colab_link": true
    },
    "kernelspec": {
      "name": "python3",
      "display_name": "Python 3"
    },
    "language_info": {
      "name": "python"
    }
  },
  "cells": [
    {
      "cell_type": "markdown",
      "metadata": {
        "id": "view-in-github",
        "colab_type": "text"
      },
      "source": [
        "<a href=\"https://colab.research.google.com/github/PosgradoMNA/actividades-de-aprendizaje-ellaesalex/blob/main/CursoPython_4.ipynb\" target=\"_parent\"><img src=\"https://colab.research.google.com/assets/colab-badge.svg\" alt=\"Open In Colab\"/></a>"
      ]
    },
    {
      "cell_type": "markdown",
      "source": [
        "**Alejandra Mendoza Flores**\n",
        "\n",
        "A01793032"
      ],
      "metadata": {
        "id": "tv3rHdvPkzGW"
      }
    },
    {
      "cell_type": "markdown",
      "source": [
        "### **Repaso**\n"
      ],
      "metadata": {
        "id": "DQVGsS62ks7l"
      }
    },
    {
      "cell_type": "code",
      "execution_count": 5,
      "metadata": {
        "colab": {
          "base_uri": "https://localhost:8080/"
        },
        "id": "jz5AQFEl7pES",
        "outputId": "53f85741-e1c2-425b-a70a-ebf76f14b1c2"
      },
      "outputs": [
        {
          "output_type": "stream",
          "name": "stdout",
          "text": [
            "Album 0 Rating is 10.0\n",
            "Album 1 Rating is 8.5\n",
            "Album 2 Rating is 9.5\n"
          ]
        }
      ],
      "source": [
        "def printStuff(Stuff):\n",
        "\n",
        "  for i,s in enumerate(Stuff): \n",
        "    print(\"Album\", i, \"Rating is\", s)\n",
        "\n",
        "album_ratings=[10.0, 8.5, 9.5]\n",
        "printStuff(album_ratings)"
      ]
    },
    {
      "cell_type": "code",
      "source": [
        "a=1\n",
        "def add(b):\n",
        "  return a+b\n",
        "\n",
        "c=add(10)"
      ],
      "metadata": {
        "id": "ByN141YxEXBm"
      },
      "execution_count": 9,
      "outputs": []
    },
    {
      "cell_type": "code",
      "source": [
        "def f(*x):\n",
        "\n",
        "  return sum(x)"
      ],
      "metadata": {
        "id": "39AOrmOiHnLI"
      },
      "execution_count": 11,
      "outputs": []
    },
    {
      "cell_type": "markdown",
      "source": [
        "### **Module 4 - Working with Data in Python**"
      ],
      "metadata": {
        "id": "cGf5q_K1k7ve"
      }
    },
    {
      "cell_type": "markdown",
      "source": [
        "Reading Files with Open\n",
        "\n",
        "File1=open(\"/resources/data/Example2.txt\", \"w\")\n",
        "\n",
        "File1= : File object\n",
        "\n",
        "open : Open Function\n",
        "\n",
        "(\"/resources/data/Example2.txt\", \"w\") : File Patch\n",
        "\n",
        "(\"/resources/data/... : Directory\n",
        "\n",
        "...Example2.txt\" : File name\n",
        "\n",
        ", \n",
        "\n",
        "\"w\" : Mode\n",
        "\n",
        ")\n",
        "\n",
        "\n",
        "a = Appending\n",
        "\n",
        "r = Reading\n",
        "\n",
        "w= Writing"
      ],
      "metadata": {
        "id": "0jYvPK2mlFXG"
      }
    },
    {
      "cell_type": "markdown",
      "source": [
        "\n",
        "Usar una declaración 'with' para abrir el archivo:\n",
        "- Cierra el archivo.\n",
        "- Proceso: \n",
        "  - El código ejecutará todo en el bloque de sangría y luego cerrará el archivo.\n",
        "  - Este código lee el archivo Example1.txt; podemos usar el objeto de archivo File1.\n",
        "  - Realizará todas las operaciones en el bloque de sangría y\n",
        "  - Cerrará el archivo al final de la sangría\n",
        "\n",
        "PARTES\n",
        "\n",
        "```\n",
        "with open(\"Example1.txt\",\"r\") as File1:\n",
        "\n",
        "    file stuff=File1.read()\n",
        "\n",
        "    print(file_stuff)\n",
        "\n",
        "print(File1.closed)\n",
        "print(file_stuff)\n",
        "\n",
        "```\n",
        "\n",
        "- File object\n",
        "```\n",
        "File1\n",
        "```\n",
        "- Indented Block: All operations\n",
        "```\n",
        "    file_stuff=File1.read()\n",
        "\n",
        "    print(file_stuff)\n",
        "```\n",
        "- End of block, close file object\n",
        "```\n",
        "print(File1.closed)\n",
        "print(file_stuff)\n",
        "```"
      ],
      "metadata": {
        "id": "cVNMR2PIqpTn"
      }
    },
    {
      "cell_type": "markdown",
      "source": [
        "\\n = Nueva linea"
      ],
      "metadata": {
        "id": "6KUlS_Gds4Jd"
      }
    },
    {
      "cell_type": "markdown",
      "source": [
        "\n",
        "\n",
        "```\n",
        "with open(\"Example1.txt\", \"r\") as File1:\n",
        "\n",
        "    file_stuff=File1.readlines()\n",
        "\n",
        "    print(file_stuff)\n",
        "\n",
        "file_stuff=['This is line 1\\n','This is line 2\\n','This is line 3\\']\n",
        "```\n",
        "\n"
      ],
      "metadata": {
        "id": "TAQbTKQsuZuh"
      }
    },
    {
      "cell_type": "markdown",
      "source": [
        "Writing Files with Open"
      ],
      "metadata": {
        "id": "TMFqBF40uaBQ"
      }
    },
    {
      "cell_type": "markdown",
      "source": [
        "\n",
        "\n",
        "```\n",
        "File1=open(\"/resources/data/Example2.txt\", \"w\")\n",
        "\n",
        "```\n",
        "\n",
        "Method .write:\n",
        "Se usa para escribir dentro del documento\n",
        "```\n",
        "with open(\"/resources/data/Example2.txt\",\"w\")\n",
        "  File.write(\"This is line A\")\n",
        "```\n",
        "\n",
        "\n"
      ],
      "metadata": {
        "id": "lEAHX3sPv0Tl"
      }
    },
    {
      "cell_type": "markdown",
      "source": [
        "Write each element in a list to a file\n",
        "\n",
        "\n",
        "\n",
        "```\n",
        "Lines=['This is line A\\n','This is line B\\n','This is line C\\']\n",
        "with open(\"/resources/data/Example2.txt\",\"w\")\n",
        "  \n",
        "  for line in Lines:\n",
        "\n",
        "    File1.write(line)\n",
        "```\n",
        "\n"
      ],
      "metadata": {
        "id": "Y-XsVVCuvaoy"
      }
    },
    {
      "cell_type": "markdown",
      "source": [
        "Copiar un archivo a un nuevo archivo \n",
        "\n",
        "\n",
        "\n",
        "```\n",
        "with open(\"Example3.txt\",\"r\") as readfile:\n",
        "\n",
        "  with open(\"Example3.txt\",\"w\") as writefile:\n",
        "    \n",
        "    for line in readfiles:\n",
        "\n",
        "      writefile.write(line)\n",
        "```\n",
        "\n"
      ],
      "metadata": {
        "id": "96K1PUZWzS7V"
      }
    },
    {
      "cell_type": "markdown",
      "source": [
        "Loading Data with Pandas"
      ],
      "metadata": {
        "id": "dbTlV8BZYRFi"
      }
    },
    {
      "cell_type": "markdown",
      "source": [
        "- Leer CSV\n",
        "\n",
        "```\n",
        "df=pandas.read_csv(csv_path)\n",
        "#Se almacena en la variale df\n",
        "df=pd.read_csv(csv_path)\n",
        "\n",
        "#Almacena la ruta del csv\n",
        "csv_path='file1.csv'\n",
        "\n",
        "```\n",
        "\n",
        "- Examinar las primeras 5 líneas de un dataframe\n",
        "\n",
        "```\n",
        "df.head()\n",
        "```\n",
        "\n",
        "- Leer Excel\n",
        "\n",
        "```\n",
        "xlsx_path='file1.xlsx'\n",
        "df=pd.read-excel (xlsx_path)\n",
        "df. head()\n",
        "```\n",
        "\n",
        "- Crear un dataframe a partir de un diccionario\n",
        "  - keys= columnas\n",
        "  - values= flas\n",
        "\n",
        "```\n",
        "songs={\n",
        "  \"Album\":['Thriller','Back in Black', 'The Dark Sideof the Moon', I\n",
        "\"The Body guard', 'Bat Out of Hell',\n",
        "  'Released':[1982,1980,1973,1992,1977],\n",
        "  'Length':['00:42:19','00:42:11','00:42:49''00:57:44''00:46:33']}\n",
        "\n",
        "songs_frame=pd.DataFrame(songs)\n",
        "```\n",
        "\n",
        "- Crear una new dataframe\n",
        "\n",
        "```\n",
        "x=df[['Length']]\n",
        "\n",
        "y=df[['Artist', Lenght', 'Genre']]\n",
        "\n",
        "```\n",
        "\n",
        "- Acceder a elementos únicos (ix)\n",
        "```\n",
        "df.ix [0,0]:'Michael Jackson'\n",
        "df.ix [1,0]:'AC/DC'\n",
        "df.ix [1,2]: 1982\n",
        "df.ix [1,2]: 1980\n",
        "df.ix [0,'Artist']: 'Michael Jackson'\n",
        "df.ix [1,'Artist']: 'AC/DC'\n",
        "df.ix [0, Released']: 1982\n",
        "df.ix [1, Released']: 1980\n",
        "```\n",
        "\n",
        "- Seleccionar columnas & filas\n",
        "- Crear un nuevo dataframe\n",
        "```\n",
        "z=df.ix [0:2, 0:3]\n",
        "z=df.ix [0:2, 'Artisi':'Released']\n",
        "```"
      ],
      "metadata": {
        "id": "JogBQ5qVYS_n"
      }
    },
    {
      "cell_type": "markdown",
      "source": [
        "Working with and Saving Data with Pandas\n",
        "\n",
        "\n",
        "- Cuantos valores únicos hay en una columna\n",
        "  - El resulado es una lista de todos los valores únicos que existen en la columna\n",
        "```\n",
        "df ['Released '].unique()\n",
        "```\n",
        "\n",
        "- Base de datos que contenga valores específicos\n",
        "\n"
      ],
      "metadata": {
        "id": "DNRgZwONBcEE"
      }
    }
  ]
}

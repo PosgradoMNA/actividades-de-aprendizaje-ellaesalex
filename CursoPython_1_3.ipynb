{
  "nbformat": 4,
  "nbformat_minor": 0,
  "metadata": {
    "colab": {
      "provenance": [],
      "collapsed_sections": [
        "PQLmv_neODXm"
      ],
      "include_colab_link": true
    },
    "kernelspec": {
      "name": "python3",
      "display_name": "Python 3"
    },
    "language_info": {
      "name": "python"
    }
  },
  "cells": [
    {
      "cell_type": "markdown",
      "metadata": {
        "id": "view-in-github",
        "colab_type": "text"
      },
      "source": [
        "<a href=\"https://colab.research.google.com/github/PosgradoMNA/actividades-de-aprendizaje-ellaesalex/blob/main/CursoPython_1_3.ipynb\" target=\"_parent\"><img src=\"https://colab.research.google.com/assets/colab-badge.svg\" alt=\"Open In Colab\"/></a>"
      ]
    },
    {
      "cell_type": "markdown",
      "source": [
        "### **Alejandra Mendoza Flores**\n",
        "A01793032"
      ],
      "metadata": {
        "id": "Yz4KlE55TWgF"
      }
    },
    {
      "cell_type": "markdown",
      "source": [
        "### **Module 1 - Python Basics**"
      ],
      "metadata": {
        "id": "PQLmv_neODXm"
      }
    },
    {
      "cell_type": "code",
      "execution_count": null,
      "metadata": {
        "colab": {
          "base_uri": "https://localhost:8080/"
        },
        "id": "FKJIkgbIEDQM",
        "outputId": "fec7769b-c401-4e13-f110-de5bb5aa0318"
      },
      "outputs": [
        {
          "output_type": "stream",
          "name": "stdout",
          "text": [
            "Hello Python 101\n"
          ]
        }
      ],
      "source": [
        "print(\"Hello Python 101\") #Declaración de impresión "
      ]
    },
    {
      "cell_type": "markdown",
      "source": [
        "Argumento: Es el valor dentro del paréntesis"
      ],
      "metadata": {
        "id": "9ijmxY97JRTg"
      }
    },
    {
      "cell_type": "markdown",
      "source": [
        "Error de Sintáxis: Hay algún typo"
      ],
      "metadata": {
        "id": "pMewDV5uKexQ"
      }
    },
    {
      "cell_type": "markdown",
      "source": [
        "Error de Semántica: La lógica es incorrecta"
      ],
      "metadata": {
        "id": "gUulyut2KtH6"
      }
    },
    {
      "cell_type": "markdown",
      "source": [
        "Types:\n",
        "- Integers (int): -9 or 9\n",
        "- Float (float): 2.22\n",
        "- String (str): \"Hello Python 101\"\n",
        "Sequence of characters\n",
        "- Boolean : True (1), False (0)\n"
      ],
      "metadata": {
        "id": "ANKBLuSqL-0C"
      }
    },
    {
      "cell_type": "markdown",
      "source": [
        "Change the type of the expression:\n",
        "Type casting\n",
        "\n",
        "\n",
        "```\n",
        "float(2):2.0\n",
        "int(1.1):1\n",
        "str(1):\"1\"\n",
        "\n",
        "type(True):bool\n",
        "type(float(2))\n",
        "\n",
        "bool(1)\n",
        "\n",
        "type(12)\n",
        "type(2.14)\n",
        "```\n",
        "\n"
      ],
      "metadata": {
        "id": "5Rhft7_FN_w2"
      }
    },
    {
      "cell_type": "markdown",
      "source": [
        "**Expresiones:**\n",
        "\n",
        "Describen un tipo de operación que realizan las computadoras\n",
        "\n",
        "45+60\n",
        "105\n",
        "\n",
        "Cada #: Operands\n",
        "Signos (+,-,*,/): Operators"
      ],
      "metadata": {
        "id": "apkcXQI9QMLR"
      }
    },
    {
      "cell_type": "code",
      "source": [
        "25/6"
      ],
      "metadata": {
        "colab": {
          "base_uri": "https://localhost:8080/"
        },
        "id": "WfnT5TfaQzcO",
        "outputId": "9a54faf5-8d90-4ad3-b403-215d85d150ab"
      },
      "execution_count": null,
      "outputs": [
        {
          "output_type": "execute_result",
          "data": {
            "text/plain": [
              "4.166666666666667"
            ]
          },
          "metadata": {},
          "execution_count": 3
        }
      ]
    },
    {
      "cell_type": "code",
      "source": [
        "25//6"
      ],
      "metadata": {
        "colab": {
          "base_uri": "https://localhost:8080/"
        },
        "id": "ajOA7s-uQ5qE",
        "outputId": "12a8f73e-60ec-4a13-f770-50f8b4e805a7"
      },
      "execution_count": null,
      "outputs": [
        {
          "output_type": "execute_result",
          "data": {
            "text/plain": [
              "4"
            ]
          },
          "metadata": {},
          "execution_count": 4
        }
      ]
    },
    {
      "cell_type": "code",
      "source": [
        "(30+2)*60"
      ],
      "metadata": {
        "colab": {
          "base_uri": "https://localhost:8080/"
        },
        "id": "O5Qp0gZERFV7",
        "outputId": "c2c888df-19e2-4870-a955-d34e0518fcaf"
      },
      "execution_count": null,
      "outputs": [
        {
          "output_type": "execute_result",
          "data": {
            "text/plain": [
              "1920"
            ]
          },
          "metadata": {},
          "execution_count": 5
        }
      ]
    },
    {
      "cell_type": "markdown",
      "source": [
        "**Variables:**\n",
        "\n",
        "Store values\n",
        "\n",
        "\n",
        "\n",
        "```\n",
        "my_valiable=1\n",
        "\n",
        "x=160\n",
        "y=x/60\n",
        "y:2.6666...\n",
        "```\n",
        "\n",
        "\n"
      ],
      "metadata": {
        "id": "d8Noe7kTRV6K"
      }
    },
    {
      "cell_type": "markdown",
      "source": [
        "**Laboratorio: **\n",
        "\n",
        "Shift + Enter\n",
        "\n",
        "\n",
        "\n",
        "```\n",
        "#Python Version\n",
        "\n",
        "import sys\n",
        "print(sys.version)\n",
        "```\n",
        "\n"
      ],
      "metadata": {
        "id": "QuLCFcGsUrIV"
      }
    },
    {
      "cell_type": "code",
      "source": [
        "type(False)"
      ],
      "metadata": {
        "colab": {
          "base_uri": "https://localhost:8080/"
        },
        "id": "a9ty09jfXKvo",
        "outputId": "5e5042bb-1e23-421d-c490-f8b224891e58"
      },
      "execution_count": null,
      "outputs": [
        {
          "output_type": "execute_result",
          "data": {
            "text/plain": [
              "bool"
            ]
          },
          "metadata": {},
          "execution_count": 6
        }
      ]
    },
    {
      "cell_type": "code",
      "source": [
        "int(True)"
      ],
      "metadata": {
        "colab": {
          "base_uri": "https://localhost:8080/"
        },
        "id": "MJM4L0UgXLG1",
        "outputId": "3c6d4fd8-d57d-417e-ee62-85f8f0e47251"
      },
      "execution_count": null,
      "outputs": [
        {
          "output_type": "execute_result",
          "data": {
            "text/plain": [
              "1"
            ]
          },
          "metadata": {},
          "execution_count": 7
        }
      ]
    },
    {
      "cell_type": "code",
      "source": [
        "bool(1)"
      ],
      "metadata": {
        "colab": {
          "base_uri": "https://localhost:8080/"
        },
        "id": "aabtlg-bXNR6",
        "outputId": "3788ef87-027e-4dae-bae7-b4b183b45e7e"
      },
      "execution_count": null,
      "outputs": [
        {
          "output_type": "execute_result",
          "data": {
            "text/plain": [
              "True"
            ]
          },
          "metadata": {},
          "execution_count": 8
        }
      ]
    },
    {
      "cell_type": "code",
      "source": [
        "bool(0)"
      ],
      "metadata": {
        "colab": {
          "base_uri": "https://localhost:8080/"
        },
        "id": "BgKgZFTuXPnZ",
        "outputId": "a0065eb7-39ef-4a95-f1d4-80461fbd5d26"
      },
      "execution_count": null,
      "outputs": [
        {
          "output_type": "execute_result",
          "data": {
            "text/plain": [
              "False"
            ]
          },
          "metadata": {},
          "execution_count": 9
        }
      ]
    },
    {
      "cell_type": "code",
      "source": [
        "float(True)"
      ],
      "metadata": {
        "colab": {
          "base_uri": "https://localhost:8080/"
        },
        "id": "tAnFC57aXRW-",
        "outputId": "1b75a25b-8485-4485-f202-5a24de9781bd"
      },
      "execution_count": null,
      "outputs": [
        {
          "output_type": "execute_result",
          "data": {
            "text/plain": [
              "1.0"
            ]
          },
          "metadata": {},
          "execution_count": 10
        }
      ]
    },
    {
      "cell_type": "code",
      "source": [
        "y=(3+2)*2"
      ],
      "metadata": {
        "id": "32cWVK4xXS5G"
      },
      "execution_count": null,
      "outputs": []
    },
    {
      "cell_type": "code",
      "source": [
        "y"
      ],
      "metadata": {
        "colab": {
          "base_uri": "https://localhost:8080/"
        },
        "id": "CnR1Qfr8YoZt",
        "outputId": "03c7697a-25b1-46a4-feb2-a3fedbc83f8f"
      },
      "execution_count": null,
      "outputs": [
        {
          "output_type": "execute_result",
          "data": {
            "text/plain": [
              "10"
            ]
          },
          "metadata": {},
          "execution_count": 12
        }
      ]
    },
    {
      "cell_type": "code",
      "source": [
        "x=3+2*2"
      ],
      "metadata": {
        "id": "QzJv8pDZYqLL"
      },
      "execution_count": null,
      "outputs": []
    },
    {
      "cell_type": "code",
      "source": [
        "x"
      ],
      "metadata": {
        "colab": {
          "base_uri": "https://localhost:8080/"
        },
        "id": "yffKUtqnYsF6",
        "outputId": "c7417251-d0a4-430d-b7ca-3b08a55deb3b"
      },
      "execution_count": null,
      "outputs": [
        {
          "output_type": "execute_result",
          "data": {
            "text/plain": [
              "7"
            ]
          },
          "metadata": {},
          "execution_count": 14
        }
      ]
    },
    {
      "cell_type": "code",
      "source": [
        "z=x+y\n",
        "z"
      ],
      "metadata": {
        "colab": {
          "base_uri": "https://localhost:8080/"
        },
        "id": "6K-QBsSVYstU",
        "outputId": "2cb7fc22-c4ad-47e9-9260-8ef6681881f4"
      },
      "execution_count": null,
      "outputs": [
        {
          "output_type": "execute_result",
          "data": {
            "text/plain": [
              "17"
            ]
          },
          "metadata": {},
          "execution_count": 15
        }
      ]
    },
    {
      "cell_type": "markdown",
      "source": [
        "**Operaciones con cadenas**\n",
        "\n",
        "Strings (str) (cadena): Es una secuencia de caracteres, contenida entre dos comillas:\n",
        "\n",
        "\n",
        "Se puede acceder a cada elemento de la secuencia utilizando un índice representado por la matriz de números.\n",
        "Primer índice = 1 \n",
        "\n",
        "También podemos usar la indexación negativa con cadenas.\n",
        "\n",
        "```\n",
        "# Esto tiene formato de código\n",
        "Alejandra\n",
        "123456789\n",
        "-9     -1\n",
        "\n",
        "Name= \"Alejandra\"\n",
        "Name=[0]\n",
        "```\n",
        "\n"
      ],
      "metadata": {
        "id": "739bzyMaZJZV"
      }
    },
    {
      "cell_type": "code",
      "source": [
        "Nombre=\"Alejandra\"\n",
        "Nombre[0:4]"
      ],
      "metadata": {
        "colab": {
          "base_uri": "https://localhost:8080/",
          "height": 35
        },
        "id": "pqIN0TlgbNZU",
        "outputId": "227964fa-0ab2-4e8b-df66-4572258ca287"
      },
      "execution_count": null,
      "outputs": [
        {
          "output_type": "execute_result",
          "data": {
            "text/plain": [
              "'Alej'"
            ],
            "application/vnd.google.colaboratory.intrinsic+json": {
              "type": "string"
            }
          },
          "metadata": {},
          "execution_count": 32
        }
      ]
    },
    {
      "cell_type": "code",
      "source": [
        "Nombre[3:6]"
      ],
      "metadata": {
        "colab": {
          "base_uri": "https://localhost:8080/",
          "height": 35
        },
        "id": "VsLnm03JbhCv",
        "outputId": "aba222ce-8143-41ca-c133-f304bfaf7d58"
      },
      "execution_count": null,
      "outputs": [
        {
          "output_type": "execute_result",
          "data": {
            "text/plain": [
              "'jan'"
            ],
            "application/vnd.google.colaboratory.intrinsic+json": {
              "type": "string"
            }
          },
          "metadata": {},
          "execution_count": 33
        }
      ]
    },
    {
      "cell_type": "code",
      "source": [
        "Nombre[::2]"
      ],
      "metadata": {
        "colab": {
          "base_uri": "https://localhost:8080/",
          "height": 35
        },
        "id": "yFXvOQN4c85G",
        "outputId": "4a31b287-35af-4786-c6a0-919c78f2c537"
      },
      "execution_count": null,
      "outputs": [
        {
          "output_type": "execute_result",
          "data": {
            "text/plain": [
              "'Aeada'"
            ],
            "application/vnd.google.colaboratory.intrinsic+json": {
              "type": "string"
            }
          },
          "metadata": {},
          "execution_count": 34
        }
      ]
    },
    {
      "cell_type": "code",
      "source": [
        "Nombre[::3]"
      ],
      "metadata": {
        "colab": {
          "base_uri": "https://localhost:8080/",
          "height": 35
        },
        "id": "6x347uJ2dd9H",
        "outputId": "da96564c-af99-4651-8685-ea122a18f40c"
      },
      "execution_count": null,
      "outputs": [
        {
          "output_type": "execute_result",
          "data": {
            "text/plain": [
              "'Ajd'"
            ],
            "application/vnd.google.colaboratory.intrinsic+json": {
              "type": "string"
            }
          },
          "metadata": {},
          "execution_count": 35
        }
      ]
    },
    {
      "cell_type": "code",
      "source": [
        "len(\"Alejandra\")"
      ],
      "metadata": {
        "colab": {
          "base_uri": "https://localhost:8080/"
        },
        "id": "z5s5_JZNduJR",
        "outputId": "e7012fb9-ae8a-4071-dd8d-973bbb0da5f4"
      },
      "execution_count": null,
      "outputs": [
        {
          "output_type": "execute_result",
          "data": {
            "text/plain": [
              "9"
            ]
          },
          "metadata": {},
          "execution_count": 37
        }
      ]
    },
    {
      "cell_type": "code",
      "source": [
        "Statement= Nombre + \" es cool\"\n",
        "Statement"
      ],
      "metadata": {
        "colab": {
          "base_uri": "https://localhost:8080/",
          "height": 35
        },
        "id": "8HDi6nSBd1uo",
        "outputId": "68cdd65a-c9fe-4629-936e-955c8fda9b25"
      },
      "execution_count": null,
      "outputs": [
        {
          "output_type": "execute_result",
          "data": {
            "text/plain": [
              "'Alejandra es cool'"
            ],
            "application/vnd.google.colaboratory.intrinsic+json": {
              "type": "string"
            }
          },
          "metadata": {},
          "execution_count": 43
        }
      ]
    },
    {
      "cell_type": "code",
      "source": [
        "3*\"Taylor Swift \""
      ],
      "metadata": {
        "colab": {
          "base_uri": "https://localhost:8080/",
          "height": 35
        },
        "id": "ITxOH2JBeF-c",
        "outputId": "4eee57b1-0080-49b4-d783-1c3351e5a263"
      },
      "execution_count": null,
      "outputs": [
        {
          "output_type": "execute_result",
          "data": {
            "text/plain": [
              "'Taylor Swift Taylor Swift Taylor Swift '"
            ],
            "application/vnd.google.colaboratory.intrinsic+json": {
              "type": "string"
            }
          },
          "metadata": {},
          "execution_count": 46
        }
      ]
    },
    {
      "cell_type": "markdown",
      "source": [
        "\\ (backslashes): Represent the beginning of escape sequences.\n",
        "\n",
        "**Escape sequences** represent strings that may be difficult to input."
      ],
      "metadata": {
        "id": "8Vt_dyKbeYSx"
      }
    },
    {
      "cell_type": "code",
      "source": [
        "print(\"Taylor Swift \\n &  Joe Alwyn\")"
      ],
      "metadata": {
        "colab": {
          "base_uri": "https://localhost:8080/"
        },
        "id": "z_3VDrSAesT_",
        "outputId": "1eb2cd8d-2346-45d9-ae23-af42cc7cd675"
      },
      "execution_count": null,
      "outputs": [
        {
          "output_type": "stream",
          "name": "stdout",
          "text": [
            "Taylor Swift \n",
            " &  Joe Alwyn\n"
          ]
        }
      ]
    },
    {
      "cell_type": "code",
      "source": [
        "print(\"Taylor Swift \\t &  Joe Alwyn\")"
      ],
      "metadata": {
        "colab": {
          "base_uri": "https://localhost:8080/"
        },
        "id": "6n4FHhyRfVlr",
        "outputId": "7c4ca946-6ca2-44b4-d3cf-a8426b110255"
      },
      "execution_count": null,
      "outputs": [
        {
          "output_type": "stream",
          "name": "stdout",
          "text": [
            "Taylor Swift \t &  Joe Alwyn\n"
          ]
        }
      ]
    },
    {
      "cell_type": "code",
      "source": [
        "print(\"Taylor Swift \\\\ &  Joe Alwyn\")"
      ],
      "metadata": {
        "colab": {
          "base_uri": "https://localhost:8080/"
        },
        "id": "QOvo-2RwfYan",
        "outputId": "a9a1833c-67fe-4e03-cf93-c01c8b8ae4f1"
      },
      "execution_count": null,
      "outputs": [
        {
          "output_type": "stream",
          "name": "stdout",
          "text": [
            "Taylor Swift \\ &  Joe Alwyn\n"
          ]
        }
      ]
    },
    {
      "cell_type": "code",
      "source": [
        "print(r\"Taylor Swift \\\\ &  Joe Alwyn\")"
      ],
      "metadata": {
        "colab": {
          "base_uri": "https://localhost:8080/"
        },
        "id": "7aG4-fX2fhFF",
        "outputId": "10702afe-71af-473c-a44e-fff7aa90689f"
      },
      "execution_count": null,
      "outputs": [
        {
          "output_type": "stream",
          "name": "stdout",
          "text": [
            "Taylor Swift \\\\ &  Joe Alwyn\n"
          ]
        }
      ]
    },
    {
      "cell_type": "markdown",
      "source": [
        "Method"
      ],
      "metadata": {
        "id": "qgIigeB7f4iv"
      }
    },
    {
      "cell_type": "code",
      "source": [
        "A=\"i-i-i got this feeling in my soul\"\n",
        "B=A.upper()\n",
        "B"
      ],
      "metadata": {
        "colab": {
          "base_uri": "https://localhost:8080/",
          "height": 35
        },
        "id": "aiMihtGUf7IM",
        "outputId": "cc1a52f8-8071-46f2-b266-d95ec0432915"
      },
      "execution_count": null,
      "outputs": [
        {
          "output_type": "execute_result",
          "data": {
            "text/plain": [
              "'I-I-I GOT THIS FEELING IN MY SOUL'"
            ],
            "application/vnd.google.colaboratory.intrinsic+json": {
              "type": "string"
            }
          },
          "metadata": {},
          "execution_count": 59
        }
      ]
    },
    {
      "cell_type": "code",
      "source": [
        "C='Taylor Swift'\n",
        "D=C.replace('Taylor','Austin')\n",
        "D"
      ],
      "metadata": {
        "colab": {
          "base_uri": "https://localhost:8080/",
          "height": 35
        },
        "id": "U1bc0eRegRRW",
        "outputId": "14ef26bb-ed4c-427b-8230-6720f1dc5f12"
      },
      "execution_count": null,
      "outputs": [
        {
          "output_type": "execute_result",
          "data": {
            "text/plain": [
              "'Austin Swift'"
            ],
            "application/vnd.google.colaboratory.intrinsic+json": {
              "type": "string"
            }
          },
          "metadata": {},
          "execution_count": 61
        }
      ]
    },
    {
      "cell_type": "code",
      "source": [],
      "metadata": {
        "id": "m7_OgKzshh5W"
      },
      "execution_count": null,
      "outputs": []
    },
    {
      "cell_type": "markdown",
      "source": [
        "Examen"
      ],
      "metadata": {
        "id": "jsKhDBPVdroC"
      }
    },
    {
      "cell_type": "code",
      "source": [
        "3 + 2 * 2"
      ],
      "metadata": {
        "colab": {
          "base_uri": "https://localhost:8080/"
        },
        "id": "XCWsAqlAbOwN",
        "outputId": "34ad2c4b-c73b-4c7c-cee3-d6c947d9296d"
      },
      "execution_count": null,
      "outputs": [
        {
          "output_type": "execute_result",
          "data": {
            "text/plain": [
              "7"
            ]
          },
          "metadata": {},
          "execution_count": 23
        }
      ]
    },
    {
      "cell_type": "code",
      "source": [
        "name = 'Lizz'\n",
        "print(name[0:2])"
      ],
      "metadata": {
        "colab": {
          "base_uri": "https://localhost:8080/"
        },
        "id": "Ne8R9phgcDiM",
        "outputId": "23a60f3b-0771-4400-b8e9-1de5a2147deb"
      },
      "execution_count": null,
      "outputs": [
        {
          "output_type": "stream",
          "name": "stdout",
          "text": [
            "Li\n"
          ]
        }
      ]
    },
    {
      "cell_type": "code",
      "source": [
        "var = '01234567'\n",
        "print(var[::2])"
      ],
      "metadata": {
        "colab": {
          "base_uri": "https://localhost:8080/"
        },
        "id": "TyKEjmB4cKBC",
        "outputId": "499cb5fb-5714-4404-b3bd-68f00ccc4ef6"
      },
      "execution_count": null,
      "outputs": [
        {
          "output_type": "stream",
          "name": "stdout",
          "text": [
            "0246\n"
          ]
        }
      ]
    },
    {
      "cell_type": "code",
      "source": [
        "'1'+'2'"
      ],
      "metadata": {
        "colab": {
          "base_uri": "https://localhost:8080/",
          "height": 35
        },
        "id": "Pk-C9qwKcS6q",
        "outputId": "39ad49cf-8fde-412e-a1ac-153bd3456c45"
      },
      "execution_count": null,
      "outputs": [
        {
          "output_type": "execute_result",
          "data": {
            "text/plain": [
              "'12'"
            ],
            "application/vnd.google.colaboratory.intrinsic+json": {
              "type": "string"
            }
          },
          "metadata": {},
          "execution_count": 30
        }
      ]
    },
    {
      "cell_type": "code",
      "source": [
        "myvar = 'hello'\n",
        "myvar.upper()"
      ],
      "metadata": {
        "colab": {
          "base_uri": "https://localhost:8080/",
          "height": 35
        },
        "id": "rRLYc13Acbly",
        "outputId": "85e9605f-fd20-44f4-df96-1ec4067299e6"
      },
      "execution_count": null,
      "outputs": [
        {
          "output_type": "execute_result",
          "data": {
            "text/plain": [
              "'HELLO'"
            ],
            "application/vnd.google.colaboratory.intrinsic+json": {
              "type": "string"
            }
          },
          "metadata": {},
          "execution_count": 31
        }
      ]
    },
    {
      "cell_type": "code",
      "source": [
        "Nombre.find('jan')"
      ],
      "metadata": {
        "colab": {
          "base_uri": "https://localhost:8080/"
        },
        "id": "EfVR42dGcjUc",
        "outputId": "3dac4d93-aef4-48a7-b13b-39073d24fbb8"
      },
      "execution_count": null,
      "outputs": [
        {
          "output_type": "execute_result",
          "data": {
            "text/plain": [
              "3"
            ]
          },
          "metadata": {},
          "execution_count": 62
        }
      ]
    },
    {
      "cell_type": "code",
      "source": [
        "Nombre.find('ra')"
      ],
      "metadata": {
        "colab": {
          "base_uri": "https://localhost:8080/"
        },
        "id": "fMZXOq9-hnxY",
        "outputId": "adbb57de-7db7-4859-92ee-bf6359dddd28"
      },
      "execution_count": null,
      "outputs": [
        {
          "output_type": "execute_result",
          "data": {
            "text/plain": [
              "7"
            ]
          },
          "metadata": {},
          "execution_count": 63
        }
      ]
    },
    {
      "cell_type": "code",
      "source": [],
      "metadata": {
        "id": "JnsFMY5yhsBa"
      },
      "execution_count": null,
      "outputs": []
    },
    {
      "cell_type": "markdown",
      "source": [
        "### **Module 2 - Python Data Structures**"
      ],
      "metadata": {
        "id": "oqOU43_7h-WM"
      }
    },
    {
      "cell_type": "markdown",
      "source": [
        "**Lists and Tuples**\n",
        "\n",
        "Tuples: Son una secuencia ordenada\n",
        "\n",
        "- Inmutables\n",
        "\n",
        "```\n",
        "Numbers =(1, 2, 3, 4, 5, 6, 7, 8, 9)\n",
        "Albums =('lover', 'reputation', 'speak now', 'taylor swift', 'fearless', 'folklore', 'red', 'evermore', 'midnights', '1989')\n",
        "Averages =(8.9, 8.9, 8.9, 9.2)\n",
        "\n",
        "\n",
        "Averages\n",
        "0  8.9\n",
        "1  8.9\n",
        "2  8.9\n",
        "3  9.2\n",
        "...\n",
        "\n",
        "```\n",
        "\n"
      ],
      "metadata": {
        "id": "WO3peKqIiB2t"
      }
    },
    {
      "cell_type": "code",
      "source": [
        "Albums =('lover', 'reputation', 'speak now', 'taylor swift', 'fearless', 'folklore', 'red', 'evermore', 'midnights', '1989')\n",
        "Albums[0]"
      ],
      "metadata": {
        "colab": {
          "base_uri": "https://localhost:8080/",
          "height": 35
        },
        "id": "v0NA7QlwiJoB",
        "outputId": "c56e139d-7596-41c7-c52c-4a8350d09e6f"
      },
      "execution_count": null,
      "outputs": [
        {
          "output_type": "execute_result",
          "data": {
            "text/plain": [
              "'lover'"
            ],
            "application/vnd.google.colaboratory.intrinsic+json": {
              "type": "string"
            }
          },
          "metadata": {},
          "execution_count": 65
        }
      ]
    },
    {
      "cell_type": "code",
      "source": [
        "Albums[0:4]"
      ],
      "metadata": {
        "colab": {
          "base_uri": "https://localhost:8080/"
        },
        "id": "EfXqPaiJj-B4",
        "outputId": "75ab9b3f-b143-4c46-aa89-786483d953b6"
      },
      "execution_count": null,
      "outputs": [
        {
          "output_type": "execute_result",
          "data": {
            "text/plain": [
              "('lover', 'reputation', 'speak now', 'taylor swift')"
            ]
          },
          "metadata": {},
          "execution_count": 66
        }
      ]
    },
    {
      "cell_type": "code",
      "source": [
        "len(Albums)"
      ],
      "metadata": {
        "colab": {
          "base_uri": "https://localhost:8080/"
        },
        "id": "tbva2IwllCrt",
        "outputId": "c6795e25-b3a4-42cb-96b3-e1fa4d632007"
      },
      "execution_count": null,
      "outputs": [
        {
          "output_type": "execute_result",
          "data": {
            "text/plain": [
              "10"
            ]
          },
          "metadata": {},
          "execution_count": 67
        }
      ]
    },
    {
      "cell_type": "code",
      "source": [
        "len(('lover', 'reputation', 'speak now', 'taylor swift', 'fearless', 'folklore', 'red', 'evermore', 'midnights', '1989'))"
      ],
      "metadata": {
        "colab": {
          "base_uri": "https://localhost:8080/"
        },
        "id": "73xaYDLDvKoR",
        "outputId": "19dc3e26-bff9-43bf-9b24-0dd6d264313d"
      },
      "execution_count": null,
      "outputs": [
        {
          "output_type": "execute_result",
          "data": {
            "text/plain": [
              "10"
            ]
          },
          "metadata": {},
          "execution_count": 68
        }
      ]
    },
    {
      "cell_type": "code",
      "source": [
        "Num =(1, 5, 6, 7, 8, 2, 3, 4, 9)"
      ],
      "metadata": {
        "id": "cATReFzDvTfA"
      },
      "execution_count": null,
      "outputs": []
    },
    {
      "cell_type": "code",
      "source": [
        "NumSorted=sorted(Num)\n",
        "NumSorted"
      ],
      "metadata": {
        "colab": {
          "base_uri": "https://localhost:8080/"
        },
        "id": "P0WU76PfzGdD",
        "outputId": "6e510b27-77a9-4f02-ecd1-1b80afff506d"
      },
      "execution_count": null,
      "outputs": [
        {
          "output_type": "execute_result",
          "data": {
            "text/plain": [
              "[1, 2, 3, 4, 5, 6, 7, 8, 9]"
            ]
          },
          "metadata": {},
          "execution_count": 74
        }
      ]
    },
    {
      "cell_type": "markdown",
      "source": [
        "Avgg =((\"prepi\",\"kinder\"), (\"oliverio\", (8.9, 8.9)), (8.9, 9.2))\n",
        "\n",
        "0= (\"prepi\",\"kinder\")\n",
        "\n",
        "1= (\"oliverio\", (8.9, 8.9))\n",
        "\n",
        "2= (8.9, 9.2)"
      ],
      "metadata": {
        "id": "NFkAKs0r0Do0"
      }
    },
    {
      "cell_type": "code",
      "source": [
        "Avgg =((\"prepi\",\"kinder\"), (\"oliverio\", (8.9, 8.9)), (8.9, 9.2))"
      ],
      "metadata": {
        "id": "G1Vhm8DnzM1X"
      },
      "execution_count": null,
      "outputs": []
    },
    {
      "cell_type": "code",
      "source": [
        "Avgg[1]"
      ],
      "metadata": {
        "colab": {
          "base_uri": "https://localhost:8080/"
        },
        "id": "ApSazSEQz81l",
        "outputId": "ad8430dd-b447-4b93-8011-3b95e2aa325a"
      },
      "execution_count": null,
      "outputs": [
        {
          "output_type": "execute_result",
          "data": {
            "text/plain": [
              "('oliverio', (8.9, 8.9))"
            ]
          },
          "metadata": {},
          "execution_count": 77
        }
      ]
    },
    {
      "cell_type": "code",
      "source": [
        "Avgg[1][1]"
      ],
      "metadata": {
        "colab": {
          "base_uri": "https://localhost:8080/"
        },
        "id": "QltCpwB52iLs",
        "outputId": "4f6b6387-da6d-4ada-f2f7-905f3b20d573"
      },
      "execution_count": null,
      "outputs": [
        {
          "output_type": "execute_result",
          "data": {
            "text/plain": [
              "(8.9, 8.9)"
            ]
          },
          "metadata": {},
          "execution_count": 78
        }
      ]
    },
    {
      "cell_type": "markdown",
      "source": [
        "List: Secuencia ordenada\n",
        "\n",
        "- Se representa con corchetes\n",
        "- Mutables\n",
        "- Podemos anidar: Listas, tuplas y otras estructuras de datos (se aplican las mismas convenciones de indexación para el anidamiento)\n",
        "\n"
      ],
      "metadata": {
        "id": "PgsN1qPz3ctG"
      }
    },
    {
      "cell_type": "markdown",
      "source": [
        "[\"Imagine\",\"Dragons\", 2.55, 3.24, [\"Believer\", \"Thunder\"], (\"Bones\",2.53),]\n",
        "\n",
        "0= \"Imagine\"\n",
        "\n",
        "1= \"Dragons\"\n",
        "\n",
        "2= 2.55\n",
        "\n",
        "3= 3.24\n",
        "\n",
        "4= [\"Believer\", \"Thunder\"]\n",
        "\n",
        "5= (\"Bones\",2.53)\n"
      ],
      "metadata": {
        "id": "Y2NAORJ-5DlD"
      }
    },
    {
      "cell_type": "code",
      "source": [
        "Music =[\"Imagine\",\"Dragons\", 2.55, 3.24, [\"Believer\", \"Thunder\"], (\"Bones\",2.53),]\n"
      ],
      "metadata": {
        "id": "AcHxKfMZ3dX1"
      },
      "execution_count": null,
      "outputs": []
    },
    {
      "cell_type": "code",
      "source": [
        "Music[4][1]"
      ],
      "metadata": {
        "colab": {
          "base_uri": "https://localhost:8080/",
          "height": 35
        },
        "id": "4QAJcrgq5AGk",
        "outputId": "b5376565-630c-4873-a65b-a8e61bb4d2fc"
      },
      "execution_count": null,
      "outputs": [
        {
          "output_type": "execute_result",
          "data": {
            "text/plain": [
              "'Thunder'"
            ],
            "application/vnd.google.colaboratory.intrinsic+json": {
              "type": "string"
            }
          },
          "metadata": {},
          "execution_count": 83
        }
      ]
    },
    {
      "cell_type": "code",
      "source": [
        "Music[5][0]"
      ],
      "metadata": {
        "colab": {
          "base_uri": "https://localhost:8080/",
          "height": 35
        },
        "id": "hfXzhI2R5l9n",
        "outputId": "e2961b46-5075-4d24-802f-9b8a197ed1bc"
      },
      "execution_count": null,
      "outputs": [
        {
          "output_type": "execute_result",
          "data": {
            "text/plain": [
              "'Bones'"
            ],
            "application/vnd.google.colaboratory.intrinsic+json": {
              "type": "string"
            }
          },
          "metadata": {},
          "execution_count": 84
        }
      ]
    },
    {
      "cell_type": "code",
      "source": [
        "Music[-1][-2]"
      ],
      "metadata": {
        "colab": {
          "base_uri": "https://localhost:8080/",
          "height": 35
        },
        "id": "sK1q5hVr5tue",
        "outputId": "7e7e4751-f70b-4967-9ea7-3227b1d31d18"
      },
      "execution_count": null,
      "outputs": [
        {
          "output_type": "execute_result",
          "data": {
            "text/plain": [
              "'Bones'"
            ],
            "application/vnd.google.colaboratory.intrinsic+json": {
              "type": "string"
            }
          },
          "metadata": {},
          "execution_count": 85
        }
      ]
    },
    {
      "cell_type": "code",
      "source": [
        "Music[1:4] #Agrega 1"
      ],
      "metadata": {
        "colab": {
          "base_uri": "https://localhost:8080/"
        },
        "id": "plMlb6ea6P5q",
        "outputId": "62567f55-ef39-406f-b8cf-fd60187218c7"
      },
      "execution_count": null,
      "outputs": [
        {
          "output_type": "execute_result",
          "data": {
            "text/plain": [
              "['Dragons', 2.55, 3.24]"
            ]
          },
          "metadata": {},
          "execution_count": 88
        }
      ]
    },
    {
      "cell_type": "code",
      "source": [
        "Music1= Music + [\"Enemy\", \"Radioactive\",\"Shots\"]\n",
        "Music1"
      ],
      "metadata": {
        "colab": {
          "base_uri": "https://localhost:8080/"
        },
        "id": "UJwPnGZ86WGv",
        "outputId": "9da33b8b-5a94-46ee-bfad-8044110e1d39"
      },
      "execution_count": null,
      "outputs": [
        {
          "output_type": "execute_result",
          "data": {
            "text/plain": [
              "['Imagine',\n",
              " 'Dragons',\n",
              " 2.55,\n",
              " 3.24,\n",
              " ['Believer', 'Thunder'],\n",
              " ('Bones', 2.53),\n",
              " 'Enemy',\n",
              " 'Radioactive',\n",
              " 'Shots']"
            ]
          },
          "metadata": {},
          "execution_count": 89
        }
      ]
    },
    {
      "cell_type": "code",
      "source": [
        "Amixes= [\"Mar\", \"Maria\",\"Bren\", \"Mariel\"]"
      ],
      "metadata": {
        "id": "Xez11fHI7Em3"
      },
      "execution_count": null,
      "outputs": []
    },
    {
      "cell_type": "code",
      "source": [
        "Amixes.extend([\"Jorge\",\"Brenda\"])\n",
        "Amixes\n"
      ],
      "metadata": {
        "colab": {
          "base_uri": "https://localhost:8080/"
        },
        "id": "cVpkNK8y83-k",
        "outputId": "5ad31f29-4925-4daa-ee18-7dfe4f773abc"
      },
      "execution_count": null,
      "outputs": [
        {
          "output_type": "execute_result",
          "data": {
            "text/plain": [
              "['Mar', 'Maria', 'Bren', 'Mariel', 'Jorge', 'Brenda']"
            ]
          },
          "metadata": {},
          "execution_count": 106
        }
      ]
    },
    {
      "cell_type": "code",
      "source": [
        "#One more element\n",
        "Amixes.append([\"Cyn\",\"Alexis\"])\n",
        "Amixes"
      ],
      "metadata": {
        "colab": {
          "base_uri": "https://localhost:8080/"
        },
        "id": "juqb6r2E9IgV",
        "outputId": "8481b94d-7750-4eed-8c83-12eca8910659"
      },
      "execution_count": null,
      "outputs": [
        {
          "output_type": "execute_result",
          "data": {
            "text/plain": [
              "['Mar', 'Maria', 'Bren', 'Mariel', 'Jorge', 'Brenda', ['Cyn', 'Alexis']]"
            ]
          },
          "metadata": {},
          "execution_count": 108
        }
      ]
    },
    {
      "cell_type": "code",
      "source": [
        "AmixesChilango= [\"Jose\", \"YaNoHay\", \"Fer\", \"NoExiste\"]\n",
        "AmixesChilango[1]=\"Dante\"\n",
        "AmixesChilango"
      ],
      "metadata": {
        "colab": {
          "base_uri": "https://localhost:8080/"
        },
        "id": "t3GZCncc-Lpq",
        "outputId": "c0afd1e8-ffa4-45ed-bd54-6ff8521d4d09"
      },
      "execution_count": null,
      "outputs": [
        {
          "output_type": "execute_result",
          "data": {
            "text/plain": [
              "['Jose', 'Dante', 'Fer', 'NoExiste']"
            ]
          },
          "metadata": {},
          "execution_count": 122
        }
      ]
    },
    {
      "cell_type": "code",
      "source": [
        "del(AmixesChilango[3])\n",
        "#Eliiminar"
      ],
      "metadata": {
        "id": "731Vo7UrNFZm"
      },
      "execution_count": null,
      "outputs": []
    },
    {
      "cell_type": "code",
      "source": [
        "AmixesChilango"
      ],
      "metadata": {
        "colab": {
          "base_uri": "https://localhost:8080/"
        },
        "id": "vk68YimuNe6D",
        "outputId": "472d31ee-8d2f-4946-c806-ded9de8ffb13"
      },
      "execution_count": null,
      "outputs": [
        {
          "output_type": "execute_result",
          "data": {
            "text/plain": [
              "['Jose', 'Dante', 'Fer']"
            ]
          },
          "metadata": {},
          "execution_count": 124
        }
      ]
    },
    {
      "cell_type": "code",
      "source": [
        "#Convertir String a Lista\n",
        "\"I Bet You Think About Me\".split()"
      ],
      "metadata": {
        "colab": {
          "base_uri": "https://localhost:8080/"
        },
        "id": "x06QwEhZOG05",
        "outputId": "8401247a-0d46-4258-d574-9ff1b4099915"
      },
      "execution_count": null,
      "outputs": [
        {
          "output_type": "execute_result",
          "data": {
            "text/plain": [
              "['I', 'Bet', 'You', 'Think', 'About', 'Me']"
            ]
          },
          "metadata": {},
          "execution_count": 126
        }
      ]
    },
    {
      "cell_type": "code",
      "source": [
        "#Separar por medio de un caracter específico\n",
        "\"I, Bet, You, Think, About, Me\".split(\",\")"
      ],
      "metadata": {
        "colab": {
          "base_uri": "https://localhost:8080/"
        },
        "id": "hTVRlKCwRDKf",
        "outputId": "15f20e45-ad8a-409b-b7b4-ed2f38df5d42"
      },
      "execution_count": null,
      "outputs": [
        {
          "output_type": "execute_result",
          "data": {
            "text/plain": [
              "['I', ' Bet', ' You', ' Think', ' About', ' Me']"
            ]
          },
          "metadata": {},
          "execution_count": 128
        }
      ]
    },
    {
      "cell_type": "code",
      "source": [
        "A = ('a', 'b', 'c')\n",
        "A[:]"
      ],
      "metadata": {
        "colab": {
          "base_uri": "https://localhost:8080/"
        },
        "id": "DM0Zrv3QRZpE",
        "outputId": "9bdb57fb-3a0c-45dc-87c5-76a96e418e4b"
      },
      "execution_count": null,
      "outputs": [
        {
          "output_type": "execute_result",
          "data": {
            "text/plain": [
              "('a', 'b', 'c')"
            ]
          },
          "metadata": {},
          "execution_count": 132
        }
      ]
    },
    {
      "cell_type": "code",
      "source": [
        "A=[\"Claude Monet\", \"Vincent Van Gogh\"]\n",
        "B=A"
      ],
      "metadata": {
        "id": "SQFE81-tTm2c"
      },
      "execution_count": null,
      "outputs": []
    },
    {
      "cell_type": "code",
      "source": [
        "A"
      ],
      "metadata": {
        "colab": {
          "base_uri": "https://localhost:8080/"
        },
        "id": "g8qe5ObzTovv",
        "outputId": "29500544-6ff5-4f05-b447-91872244fc71"
      },
      "execution_count": null,
      "outputs": [
        {
          "output_type": "execute_result",
          "data": {
            "text/plain": [
              "['Claude Monet', 'Vincent Van Gogh']"
            ]
          },
          "metadata": {},
          "execution_count": 135
        }
      ]
    },
    {
      "cell_type": "code",
      "source": [
        "B"
      ],
      "metadata": {
        "colab": {
          "base_uri": "https://localhost:8080/"
        },
        "id": "hdsz9dulVBWG",
        "outputId": "52c417ed-3764-4644-817d-3d476595f133"
      },
      "execution_count": null,
      "outputs": [
        {
          "output_type": "execute_result",
          "data": {
            "text/plain": [
              "['Claude Monet', 'Vincent Van Gogh']"
            ]
          },
          "metadata": {},
          "execution_count": 137
        }
      ]
    },
    {
      "cell_type": "code",
      "source": [
        "A.extend([\"Eduard Manet\",\"Edgar Degas\"])\n",
        "A"
      ],
      "metadata": {
        "colab": {
          "base_uri": "https://localhost:8080/"
        },
        "id": "V0KSIfw6VB9D",
        "outputId": "d41a994c-0612-4fd7-c57b-024f8271b25c"
      },
      "execution_count": null,
      "outputs": [
        {
          "output_type": "execute_result",
          "data": {
            "text/plain": [
              "['Claude Monet', 'Vincent Van Gogh', 'Eduard Manet', 'Edgar Degas']"
            ]
          },
          "metadata": {},
          "execution_count": 138
        }
      ]
    },
    {
      "cell_type": "code",
      "source": [
        "B"
      ],
      "metadata": {
        "colab": {
          "base_uri": "https://localhost:8080/"
        },
        "id": "Ejyu_kgAWGlK",
        "outputId": "dedc4dce-a55a-4782-a26d-66c69a51782b"
      },
      "execution_count": null,
      "outputs": [
        {
          "output_type": "execute_result",
          "data": {
            "text/plain": [
              "['Claude Monet', 'Vincent Van Gogh', 'Eduard Manet', 'Edgar Degas']"
            ]
          },
          "metadata": {},
          "execution_count": 139
        }
      ]
    },
    {
      "cell_type": "markdown",
      "source": [
        "**Sets**\n",
        "\n",
        "- Son un tipo de colección\n",
        "- Desordenadas\n",
        "- Los conjuntos no registran la posición del elemento\n",
        "- Solo tienen elementos únicos\n",
        "- Solo hay uno elemento particulas en un conjunto.\n"
      ],
      "metadata": {
        "id": "_MXN-W6KLzgi"
      }
    },
    {
      "cell_type": "markdown",
      "source": [
        "Crear un set\n",
        "\n",
        "- Usan { } \n",
        "\n",
        "\n",
        "\n",
        "```\n",
        "Animaniacs={\"Yakko\", \"Wakko\", \"Dot\"}\n",
        "```\n",
        "\n"
      ],
      "metadata": {
        "id": "vhEuuoVkSiWh"
      }
    },
    {
      "cell_type": "markdown",
      "source": [
        "Convertir una lista en un set\n",
        "\n",
        "Called \"Type-casting\"\n",
        "\n",
        "- Use la lista como entrada para el conjunto de funciones\n",
        "- El resultado será una lista convertida en un conjunto\n",
        "\n",
        "```\n",
        "set()\n",
        "```\n",
        "\n"
      ],
      "metadata": {
        "id": "LGU_DvgQThV1"
      }
    },
    {
      "cell_type": "markdown",
      "source": [
        "Lista:"
      ],
      "metadata": {
        "id": "_DkpCI7EUakH"
      }
    },
    {
      "cell_type": "code",
      "source": [
        "animals_list=[\"lynx\", \"lion\", \"fox\", \"cat\", \"cat\"]"
      ],
      "metadata": {
        "id": "xdV0HfTBTlpA"
      },
      "execution_count": null,
      "outputs": []
    },
    {
      "cell_type": "markdown",
      "source": [
        "Convertir lista en un set:"
      ],
      "metadata": {
        "id": "iCj_U51jVC6e"
      }
    },
    {
      "cell_type": "code",
      "source": [
        "animals_set=set(animals_list)\n",
        "animals_set"
      ],
      "metadata": {
        "colab": {
          "base_uri": "https://localhost:8080/"
        },
        "id": "wsPzkqzcWJQV",
        "outputId": "13f52ce1-e2a6-4bd6-c644-b1365ff57c15"
      },
      "execution_count": null,
      "outputs": [
        {
          "output_type": "execute_result",
          "data": {
            "text/plain": [
              "{'cat', 'fox', 'lion', 'lynx'}"
            ]
          },
          "metadata": {},
          "execution_count": 6
        }
      ]
    },
    {
      "cell_type": "markdown",
      "source": [
        "Set operations\n",
        "\n",
        "- Se pueden utilizar para cambiar el set"
      ],
      "metadata": {
        "id": "9bifVsyTVSsR"
      }
    },
    {
      "cell_type": "code",
      "source": [
        "pokemon={'charmander', 'charizard', 'charmeleon', 'raichu'}"
      ],
      "metadata": {
        "id": "qN0VS25TU9LV"
      },
      "execution_count": null,
      "outputs": []
    },
    {
      "cell_type": "code",
      "source": [
        "pokemon.add(\"pikachu\")\n",
        "pokemon"
      ],
      "metadata": {
        "colab": {
          "base_uri": "https://localhost:8080/"
        },
        "id": "TuvRWydzXUMi",
        "outputId": "696795c8-91f5-4b52-a294-dbcb415b1688"
      },
      "execution_count": null,
      "outputs": [
        {
          "output_type": "execute_result",
          "data": {
            "text/plain": [
              "{'charizard', 'charmander', 'charmeleon', 'pikachu', 'raichu'}"
            ]
          },
          "metadata": {},
          "execution_count": 9
        }
      ]
    },
    {
      "cell_type": "code",
      "source": [
        "pokemon.remove(\"pikachu\")\n",
        "pokemon"
      ],
      "metadata": {
        "colab": {
          "base_uri": "https://localhost:8080/"
        },
        "id": "zacP6z-NXcM0",
        "outputId": "19827db0-ac93-406d-ad6e-132ccd8462d3"
      },
      "execution_count": null,
      "outputs": [
        {
          "output_type": "execute_result",
          "data": {
            "text/plain": [
              "{'charizard', 'charmander', 'charmeleon', 'raichu'}"
            ]
          },
          "metadata": {},
          "execution_count": 10
        }
      ]
    },
    {
      "cell_type": "code",
      "source": [
        "\"pikachu\" in pokemon"
      ],
      "metadata": {
        "colab": {
          "base_uri": "https://localhost:8080/"
        },
        "id": "j_5fExH1XmIa",
        "outputId": "daf7a085-f73c-430e-e228-ffd2b2b7bd33"
      },
      "execution_count": null,
      "outputs": [
        {
          "output_type": "execute_result",
          "data": {
            "text/plain": [
              "False"
            ]
          },
          "metadata": {},
          "execution_count": 11
        }
      ]
    },
    {
      "cell_type": "code",
      "source": [
        "\"riachu\" in pokemon"
      ],
      "metadata": {
        "colab": {
          "base_uri": "https://localhost:8080/"
        },
        "id": "TyxFrpZ1XqqI",
        "outputId": "7fd0277c-d28a-4716-b930-2ac072fc0d8d"
      },
      "execution_count": null,
      "outputs": [
        {
          "output_type": "execute_result",
          "data": {
            "text/plain": [
              "False"
            ]
          },
          "metadata": {},
          "execution_count": 12
        }
      ]
    },
    {
      "cell_type": "markdown",
      "source": [
        "Mathematical set operations\n",
        "\n"
      ],
      "metadata": {
        "id": "FFage6vlX27w"
      }
    },
    {
      "cell_type": "code",
      "source": [
        "sucursalnorte_set={'nombre', 'apellido', 'id', 'producto', 'precio'}\n",
        "sucursalsur_set={'total', 'no_productos', 'id', 'asesor'}"
      ],
      "metadata": {
        "id": "RMQUCfU5Xvg6"
      },
      "execution_count": null,
      "outputs": []
    },
    {
      "cell_type": "code",
      "source": [
        "sucursalnorte_set & sucursalsur_set"
      ],
      "metadata": {
        "colab": {
          "base_uri": "https://localhost:8080/"
        },
        "id": "rfZqoWHVM2oD",
        "outputId": "39ebef6a-b41a-44f5-831c-10bcf974640a"
      },
      "execution_count": null,
      "outputs": [
        {
          "output_type": "execute_result",
          "data": {
            "text/plain": [
              "{'id'}"
            ]
          },
          "metadata": {},
          "execution_count": 9
        }
      ]
    },
    {
      "cell_type": "code",
      "source": [
        "sucursalmacional_set=sucursalnorte_set & sucursalsur_set"
      ],
      "metadata": {
        "id": "CrofapsiMO3C"
      },
      "execution_count": null,
      "outputs": []
    },
    {
      "cell_type": "code",
      "source": [
        "sucursalmacional_set"
      ],
      "metadata": {
        "colab": {
          "base_uri": "https://localhost:8080/"
        },
        "id": "eiAuUuoNMo2m",
        "outputId": "e59885b2-bf71-4e56-ead5-f76f5c5192f1"
      },
      "execution_count": null,
      "outputs": [
        {
          "output_type": "execute_result",
          "data": {
            "text/plain": [
              "{'id'}"
            ]
          },
          "metadata": {},
          "execution_count": 11
        }
      ]
    },
    {
      "cell_type": "code",
      "source": [
        "sucursalsur_set.union (sucursalnorte_set)"
      ],
      "metadata": {
        "colab": {
          "base_uri": "https://localhost:8080/"
        },
        "id": "zgvPh1OKNO8_",
        "outputId": "876939da-159f-4b50-f4d7-4003253a40d2"
      },
      "execution_count": null,
      "outputs": [
        {
          "output_type": "execute_result",
          "data": {
            "text/plain": [
              "{'apellido',\n",
              " 'asesor',\n",
              " 'id',\n",
              " 'no_productos',\n",
              " 'nombre',\n",
              " 'precio',\n",
              " 'producto',\n",
              " 'total'}"
            ]
          },
          "metadata": {},
          "execution_count": 14
        }
      ]
    },
    {
      "cell_type": "code",
      "source": [
        "colores_1={'gris','rojo', 'dorado', 'rosa', 'negro'}\n",
        "colores_2={'gris','plateado', 'azul', 'negro'}"
      ],
      "metadata": {
        "id": "X2ULgV6yNXgP"
      },
      "execution_count": null,
      "outputs": []
    },
    {
      "cell_type": "code",
      "source": [
        "colores_3=colores_1 & colores_2"
      ],
      "metadata": {
        "id": "Ergu2CjvOjbI"
      },
      "execution_count": null,
      "outputs": []
    },
    {
      "cell_type": "code",
      "source": [
        "colores_3"
      ],
      "metadata": {
        "colab": {
          "base_uri": "https://localhost:8080/"
        },
        "id": "z2zaf72UPP79",
        "outputId": "25be1374-9370-48b6-84ec-73d4b66c1c80"
      },
      "execution_count": null,
      "outputs": [
        {
          "output_type": "execute_result",
          "data": {
            "text/plain": [
              "{'gris', 'negro'}"
            ]
          },
          "metadata": {},
          "execution_count": 24
        }
      ]
    },
    {
      "cell_type": "code",
      "source": [
        "colores_1.union(colores_2)"
      ],
      "metadata": {
        "colab": {
          "base_uri": "https://localhost:8080/"
        },
        "id": "b8ZM2ZhsPWpg",
        "outputId": "b912b40b-0fc0-412f-c7e5-cabbd3c81023"
      },
      "execution_count": null,
      "outputs": [
        {
          "output_type": "execute_result",
          "data": {
            "text/plain": [
              "{'azul', 'dorado', 'gris', 'negro', 'plateado', 'rojo', 'rosa'}"
            ]
          },
          "metadata": {},
          "execution_count": 25
        }
      ]
    },
    {
      "cell_type": "code",
      "source": [
        "colores_3.issubset(colores_1)"
      ],
      "metadata": {
        "colab": {
          "base_uri": "https://localhost:8080/"
        },
        "id": "seroHqjDOffb",
        "outputId": "3c291a97-c2e3-4be1-b580-31668cf2aff6"
      },
      "execution_count": null,
      "outputs": [
        {
          "output_type": "execute_result",
          "data": {
            "text/plain": [
              "True"
            ]
          },
          "metadata": {},
          "execution_count": 26
        }
      ]
    },
    {
      "cell_type": "markdown",
      "source": [
        "**Diccionarios**\n",
        "\n",
        "- Son un tipo de colección en Python\n",
        "- Tiene claves y valores\n",
        "- Clave: \n",
        "  - Son direcciones\n",
        "  - No tienen que ser números enteros\n",
        "  - Suelen ser personajes\n",
        "  \n",
        "- Valores:\n",
        "  - Similares a los elementos de una lista \n",
        "  - Contienen información\n",
        "\n"
      ],
      "metadata": {
        "id": "k9NhE5shP5Mu"
      }
    },
    {
      "cell_type": "markdown",
      "source": [
        "Crear un diccionario\n",
        "- Corchetes\n",
        "- Inmutable y único\n",
        "- Cada tecla va seguida de un valor separado\n",
        "por un colon. \n",
        "- Los valores pueden ser inmutables, mutables y duplicados.\n",
        "\n",
        "\n",
        "\n",
        "```\n",
        "{\"key1\":1, \"key2\":\"2\", \"key3\":[3, 3, 3], \"key4\":(4, 4, 4), ('key5'):5}\n",
        "```\n",
        "\n"
      ],
      "metadata": {
        "id": "RTUakKZ4TRxC"
      }
    },
    {
      "cell_type": "code",
      "source": [
        "DICT={\"Taylor Swift\":2006, \"Fearless\":2008, \"Speak Now\":2010, \"Red\":2012, \"1989\":2014, \"Reputation\":2017, \"Lover\":2019, \"Folklore\":2020, \"Evermore\":2020, \"Midnight\":2022,}"
      ],
      "metadata": {
        "id": "jLEXNXZpUdFW"
      },
      "execution_count": null,
      "outputs": []
    },
    {
      "cell_type": "markdown",
      "source": [
        "\n",
        "\n",
        "```\n",
        "DICT[\"Midnight\"]: 2022\n",
        "\n",
        "del(DICT[\"Lover\"])\n",
        "\n",
        "'Taylor Swift' in DICT\n",
        "\n",
        "DICT.keys()=[\"Taylor Swift\", \"Fearless\", \"Speak Now\", \"Red\", \"1989\", \"Reputation\", \"Lover\", \"Folklore\", \"Evermore\", \"Midnight\"]\n",
        "\n",
        "DICT.values()=[\"2006\", \"2008\", \"2010\", \"2012\", \"2014\", \"2017\", \"2019\", \"2020\", \"2020\", \"2022\"]\n",
        "```\n",
        "\n"
      ],
      "metadata": {
        "id": "S5CKW6tXXThY"
      }
    },
    {
      "cell_type": "code",
      "source": [
        "DICT[\"Midnight\"]: 2022"
      ],
      "metadata": {
        "id": "TRPhbrglYCSP"
      },
      "execution_count": null,
      "outputs": []
    },
    {
      "cell_type": "code",
      "source": [
        "del(DICT[\"Lover\"])"
      ],
      "metadata": {
        "id": "832Dc7MnZNQk"
      },
      "execution_count": null,
      "outputs": []
    },
    {
      "cell_type": "code",
      "source": [
        "'Taylor Swift' in DICT"
      ],
      "metadata": {
        "colab": {
          "base_uri": "https://localhost:8080/"
        },
        "id": "xsPq5DLyZOYv",
        "outputId": "752deb77-0aac-4013-d46c-63341077eadb"
      },
      "execution_count": null,
      "outputs": [
        {
          "output_type": "execute_result",
          "data": {
            "text/plain": [
              "True"
            ]
          },
          "metadata": {},
          "execution_count": 42
        }
      ]
    },
    {
      "cell_type": "code",
      "source": [
        "DICT.keys()"
      ],
      "metadata": {
        "colab": {
          "base_uri": "https://localhost:8080/"
        },
        "id": "fJqcW2ArZP7h",
        "outputId": "dc760a90-bf8c-4358-dbea-ba5ea3949769"
      },
      "execution_count": null,
      "outputs": [
        {
          "output_type": "execute_result",
          "data": {
            "text/plain": [
              "dict_keys(['Taylor Swift', 'Fearless', 'Speak Now', 'Red', '1989', 'Reputation', 'Folklore', 'Evermore', 'Midnight'])"
            ]
          },
          "metadata": {},
          "execution_count": 43
        }
      ]
    },
    {
      "cell_type": "code",
      "source": [
        "DICT.values()"
      ],
      "metadata": {
        "colab": {
          "base_uri": "https://localhost:8080/"
        },
        "id": "kNpP7J68ZRxS",
        "outputId": "f07f113a-cce6-4c22-cb8c-81f197020484"
      },
      "execution_count": null,
      "outputs": [
        {
          "output_type": "execute_result",
          "data": {
            "text/plain": [
              "dict_values([2006, 2008, 2010, 2012, 2014, 2017, 2020, 2020, 2022])"
            ]
          },
          "metadata": {},
          "execution_count": 44
        }
      ]
    },
    {
      "cell_type": "code",
      "source": [
        "Dict2={\"A\":1,\"B\":\"2\",\"C\":[3,3,3],\"D\":(4,4,4),'E':5,'F':6}"
      ],
      "metadata": {
        "id": "Tk_MvuQTZTIe"
      },
      "execution_count": null,
      "outputs": []
    },
    {
      "cell_type": "code",
      "source": [
        "Dict2[\"D\"]"
      ],
      "metadata": {
        "colab": {
          "base_uri": "https://localhost:8080/"
        },
        "id": "gbOhWgr7Zwt2",
        "outputId": "1798ee12-3a18-4d14-ac18-e4d8ad236916"
      },
      "execution_count": null,
      "outputs": [
        {
          "output_type": "execute_result",
          "data": {
            "text/plain": [
              "(4, 4, 4)"
            ]
          },
          "metadata": {},
          "execution_count": 47
        }
      ]
    },
    {
      "cell_type": "code",
      "source": [],
      "metadata": {
        "id": "qbBTgDDaZyBp"
      },
      "execution_count": null,
      "outputs": []
    },
    {
      "cell_type": "markdown",
      "source": [
        "### **Module 3 - Python Programming Fundamentals**"
      ],
      "metadata": {
        "id": "h_sAJtkOaMBC"
      }
    },
    {
      "cell_type": "markdown",
      "source": [
        "**Conditions and Branching**\n",
        "\n",
        "\n",
        "Comparison Operators\n",
        "\n",
        "Operador de igualdad == \n",
        "\n",
        "Operador de NO igualdad !\n",
        "\n",
        "\n",
        "```\n",
        "Operadores\n",
        "==\n",
        "! \n",
        "<\n",
        ">\n",
        "<=\n",
        ">=\n",
        "```\n",
        "\n"
      ],
      "metadata": {
        "id": "p6KU5t9NaN4j"
      }
    },
    {
      "cell_type": "code",
      "source": [
        "6==7"
      ],
      "metadata": {
        "colab": {
          "base_uri": "https://localhost:8080/"
        },
        "id": "TlUFvfMcemAD",
        "outputId": "be569670-edb7-4c67-fb21-75b20525fcdf"
      },
      "execution_count": null,
      "outputs": [
        {
          "output_type": "execute_result",
          "data": {
            "text/plain": [
              "False"
            ]
          },
          "metadata": {},
          "execution_count": 23
        }
      ]
    },
    {
      "cell_type": "code",
      "source": [
        "a=6"
      ],
      "metadata": {
        "id": "0zNWnzqxemwG"
      },
      "execution_count": null,
      "outputs": []
    },
    {
      "cell_type": "code",
      "source": [
        "a==6"
      ],
      "metadata": {
        "colab": {
          "base_uri": "https://localhost:8080/"
        },
        "id": "jwzCMjNLesp0",
        "outputId": "5fdea4c1-8cc3-491f-b8bd-40992d707e46"
      },
      "execution_count": null,
      "outputs": [
        {
          "output_type": "execute_result",
          "data": {
            "text/plain": [
              "True"
            ]
          },
          "metadata": {},
          "execution_count": 25
        }
      ]
    },
    {
      "cell_type": "code",
      "source": [
        "i=6\n",
        "i>5"
      ],
      "metadata": {
        "colab": {
          "base_uri": "https://localhost:8080/"
        },
        "id": "vC3B4QPNetmu",
        "outputId": "7686533a-aba5-43da-ae08-70e1db009a16"
      },
      "execution_count": null,
      "outputs": [
        {
          "output_type": "execute_result",
          "data": {
            "text/plain": [
              "True"
            ]
          },
          "metadata": {},
          "execution_count": 26
        }
      ]
    },
    {
      "cell_type": "code",
      "source": [
        "i>7"
      ],
      "metadata": {
        "colab": {
          "base_uri": "https://localhost:8080/"
        },
        "id": "2RHpOg23e4TW",
        "outputId": "0f21dd29-78aa-4125-9bc2-77ebadc5c59b"
      },
      "execution_count": null,
      "outputs": [
        {
          "output_type": "execute_result",
          "data": {
            "text/plain": [
              "False"
            ]
          },
          "metadata": {},
          "execution_count": 27
        }
      ]
    },
    {
      "cell_type": "code",
      "source": [
        "i<8"
      ],
      "metadata": {
        "colab": {
          "base_uri": "https://localhost:8080/"
        },
        "id": "FlJD0FJbe_vK",
        "outputId": "b22dee52-1208-4195-88c5-39da681c00bc"
      },
      "execution_count": null,
      "outputs": [
        {
          "output_type": "execute_result",
          "data": {
            "text/plain": [
              "True"
            ]
          },
          "metadata": {},
          "execution_count": 28
        }
      ]
    },
    {
      "cell_type": "code",
      "source": [
        "i<5"
      ],
      "metadata": {
        "colab": {
          "base_uri": "https://localhost:8080/"
        },
        "id": "0DYnTuDFfCe7",
        "outputId": "b979d019-472b-4f69-ddd4-e2d197e27d42"
      },
      "execution_count": null,
      "outputs": [
        {
          "output_type": "execute_result",
          "data": {
            "text/plain": [
              "False"
            ]
          },
          "metadata": {},
          "execution_count": 29
        }
      ]
    },
    {
      "cell_type": "code",
      "source": [
        "i!=5"
      ],
      "metadata": {
        "colab": {
          "base_uri": "https://localhost:8080/"
        },
        "id": "F4lf2abCfFWK",
        "outputId": "64c4d4c6-bc30-4451-e166-d165e8f5a987"
      },
      "execution_count": null,
      "outputs": [
        {
          "output_type": "execute_result",
          "data": {
            "text/plain": [
              "True"
            ]
          },
          "metadata": {},
          "execution_count": 30
        }
      ]
    },
    {
      "cell_type": "code",
      "source": [
        "i!=6"
      ],
      "metadata": {
        "colab": {
          "base_uri": "https://localhost:8080/"
        },
        "id": "gcs5is7Tg_Sd",
        "outputId": "33876cda-b1a7-43f2-8f25-bd4800f610c1"
      },
      "execution_count": null,
      "outputs": [
        {
          "output_type": "execute_result",
          "data": {
            "text/plain": [
              "False"
            ]
          },
          "metadata": {},
          "execution_count": 31
        }
      ]
    },
    {
      "cell_type": "code",
      "source": [
        "\"TS\"==\"JA\""
      ],
      "metadata": {
        "colab": {
          "base_uri": "https://localhost:8080/"
        },
        "id": "bYluA9QKhDva",
        "outputId": "96f6e2a7-0a9a-448e-d61f-88ee1312a038"
      },
      "execution_count": null,
      "outputs": [
        {
          "output_type": "execute_result",
          "data": {
            "text/plain": [
              "False"
            ]
          },
          "metadata": {},
          "execution_count": 32
        }
      ]
    },
    {
      "cell_type": "code",
      "source": [
        "\"TS\"!=\"JA\""
      ],
      "metadata": {
        "colab": {
          "base_uri": "https://localhost:8080/"
        },
        "id": "f9xSjAqPhVvx",
        "outputId": "414d7091-94cc-4dc0-ae0a-fd2ed483274c"
      },
      "execution_count": null,
      "outputs": [
        {
          "output_type": "execute_result",
          "data": {
            "text/plain": [
              "True"
            ]
          },
          "metadata": {},
          "execution_count": 33
        }
      ]
    },
    {
      "cell_type": "code",
      "source": [
        "\"TS\"==\"TS\""
      ],
      "metadata": {
        "colab": {
          "base_uri": "https://localhost:8080/"
        },
        "id": "2XGtBll_hYtR",
        "outputId": "83c8b8da-9cf1-47bc-cc53-fdbd440321aa"
      },
      "execution_count": null,
      "outputs": [
        {
          "output_type": "execute_result",
          "data": {
            "text/plain": [
              "True"
            ]
          },
          "metadata": {},
          "execution_count": 34
        }
      ]
    },
    {
      "cell_type": "code",
      "source": [
        "\"TS\"!=\"TS\""
      ],
      "metadata": {
        "colab": {
          "base_uri": "https://localhost:8080/"
        },
        "id": "qsKb1Jmkhc9W",
        "outputId": "42583809-714c-419f-c386-72a078fa9fe0"
      },
      "execution_count": null,
      "outputs": [
        {
          "output_type": "execute_result",
          "data": {
            "text/plain": [
              "False"
            ]
          },
          "metadata": {},
          "execution_count": 35
        }
      ]
    },
    {
      "cell_type": "markdown",
      "source": [
        "Branching\n",
        "\n",
        "\n",
        "- Nos permite ejecutar diferentes declaraciones para una entrada diferente\n"
      ],
      "metadata": {
        "id": "UrxavPILh1F2"
      }
    },
    {
      "cell_type": "markdown",
      "source": [
        "If Statement\n",
        "\n",
        "Syntax\n",
        "\n",
        "```\n",
        "age= 17\n",
        "\n",
        "if (age<18) \n",
        "  print(\"you can enter\")\n",
        "\n",
        "print (\"move on\")\n",
        "```\n",
        "\n"
      ],
      "metadata": {
        "id": "Um3ax1lTxvF8"
      }
    },
    {
      "cell_type": "code",
      "source": [
        "edad=17\n",
        "\n",
        "if (edad>18): \n",
        "  print(\"you can enter\")\n",
        "\n",
        "print(\"move on\")"
      ],
      "metadata": {
        "colab": {
          "base_uri": "https://localhost:8080/"
        },
        "id": "9NFOk_dbhgU_",
        "outputId": "f67a201d-62c5-42fd-d1c9-424077895e10"
      },
      "execution_count": null,
      "outputs": [
        {
          "output_type": "stream",
          "name": "stdout",
          "text": [
            "move on\n"
          ]
        }
      ]
    },
    {
      "cell_type": "code",
      "source": [
        "edad=17\n",
        "\n",
        "if (edad>18): \n",
        "  print(\"you can enter\")\n",
        "else: \n",
        "  print(\"go home\")\n",
        "print(\"move on\")\n"
      ],
      "metadata": {
        "colab": {
          "base_uri": "https://localhost:8080/"
        },
        "id": "Vz3yRmD7h6m8",
        "outputId": "71e0e663-98ff-4c04-df30-c3797c3c8631"
      },
      "execution_count": null,
      "outputs": [
        {
          "output_type": "stream",
          "name": "stdout",
          "text": [
            "go home\n",
            "move on\n"
          ]
        }
      ]
    },
    {
      "cell_type": "markdown",
      "source": [
        "Elif Statement\n",
        "\n",
        "- Else if:\n",
        "  - Allows us to check additional conditions. \n",
        "  - If the proceeding condition is false.\n",
        "  - If the condition is true, the alternate expressions will be run.\n"
      ],
      "metadata": {
        "id": "7n2ZemFK1mQH"
      }
    },
    {
      "cell_type": "code",
      "source": [
        "edad=18\n",
        "\n",
        "if (edad>18): \n",
        "  print(\"you can enter\")\n",
        "\n",
        "elif (edad==18):\n",
        "  print(\"you to TS concert\")\n",
        "\n",
        "else: \n",
        "  print(\"go home\")\n",
        "print(\"move on\")"
      ],
      "metadata": {
        "colab": {
          "base_uri": "https://localhost:8080/"
        },
        "id": "EfwTqrKJzE0S",
        "outputId": "a49b4027-d4dc-4327-dcc6-543fc080a4aa"
      },
      "execution_count": null,
      "outputs": [
        {
          "output_type": "stream",
          "name": "stdout",
          "text": [
            "you to TS concert\n",
            "move on\n"
          ]
        }
      ]
    },
    {
      "cell_type": "markdown",
      "source": [
        "Logic Operators\n",
        "\n",
        "- Take Boolean values and produce different Boolean values\n",
        "\n",
        "OR\n",
        "```\n",
        "Not\n",
        "Or\n",
        "```\n",
        "\n",
        "A   _   B   _   AorB\n",
        "\n",
        "F   +   F   =    F\n",
        "\n",
        "F   +   T   =    T\n",
        "\n",
        "T   +   F   =    T\n",
        "\n",
        "T   +   T   =    T\n",
        "\n"
      ],
      "metadata": {
        "id": "sGz3bp6D20O8"
      }
    },
    {
      "cell_type": "code",
      "source": [
        "album_year=1990\n",
        "if (album_year<1980) or (album_year>1989):\n",
        "  print(\"The Album was made in the 70's or 90's\")\n",
        "else:\n",
        "  print(\"The Album was made in the 1980's\")"
      ],
      "metadata": {
        "colab": {
          "base_uri": "https://localhost:8080/"
        },
        "id": "RJ8HRQnI2Sf1",
        "outputId": "267ff92f-a1ec-4eae-de6f-8457d01d811a"
      },
      "execution_count": null,
      "outputs": [
        {
          "output_type": "stream",
          "name": "stdout",
          "text": [
            "The Album was made in the 70's or 90's\n"
          ]
        }
      ]
    },
    {
      "cell_type": "markdown",
      "source": [
        "AND\n",
        "```\n",
        "And\n",
        "```\n",
        "A   _   B   _   AorB\n",
        "\n",
        "F   +   F   =    F\n",
        "\n",
        "F   +   T   =    F\n",
        "\n",
        "T   +   F   =    F\n",
        "\n",
        "T   +   T   =    T"
      ],
      "metadata": {
        "id": "8UehH90j5lI2"
      }
    },
    {
      "cell_type": "code",
      "source": [
        "album_year=1983\n",
        "if(album_year>1979) and (album_year<1990):\n",
        "  print(\"This album was made in the 80's\")"
      ],
      "metadata": {
        "colab": {
          "base_uri": "https://localhost:8080/"
        },
        "id": "HZThZiI_4vyC",
        "outputId": "c80e4a5f-30c0-4e01-86eb-cef5e11ff676"
      },
      "execution_count": null,
      "outputs": [
        {
          "output_type": "stream",
          "name": "stdout",
          "text": [
            "This album was made in the 80's\n"
          ]
        }
      ]
    },
    {
      "cell_type": "markdown",
      "source": [
        "**Loops**\n",
        "\n",
        "- For\n",
        "- While\n",
        "\n",
        "\n",
        "Función range\n",
        "- Genera una secuencia ordenada como una lista \"i\"\n",
        "- Si la entrada es un entero positivo, la salida es una secuencia\n",
        "- La secuencia contiene el mismo número de elementos que la entrada, pero comienza en cero.\n",
        "\n",
        "[]\n",
        "{}\n",
        "\n",
        "```\n",
        "range(N)\n",
        "= [0,..,N-1]\n",
        "\n",
        "```\n",
        "\n",
        "Ejemplo I\n",
        "```\n",
        "range(3)\n",
        "= [0, 1, 2]\n",
        "\n",
        "```\n",
        "\n",
        "\n",
        "Ejemplo II\n",
        "- Dos entradas: La primera entrada es mayor que la segunda\n",
        "- La salida es una secuencia que comienza en la primera entrada\n",
        "- La secuencia itera hasta el segundo número, pero sin incluirlo\n",
        "\n",
        "```\n",
        "range(10, 15)\n",
        "= [10, 11, 12, 13, 14]\n",
        "\n",
        "```"
      ],
      "metadata": {
        "id": "yDMTI7zKm_pH"
      }
    },
    {
      "cell_type": "code",
      "source": [
        "range(3)"
      ],
      "metadata": {
        "colab": {
          "base_uri": "https://localhost:8080/"
        },
        "id": "Zof1_7fvsr67",
        "outputId": "dbd3a4c3-e158-4692-e863-8158e2b40a70"
      },
      "execution_count": null,
      "outputs": [
        {
          "output_type": "execute_result",
          "data": {
            "text/plain": [
              "range(0, 3)"
            ]
          },
          "metadata": {},
          "execution_count": 41
        }
      ]
    },
    {
      "cell_type": "code",
      "source": [
        "range(10, 15)"
      ],
      "metadata": {
        "colab": {
          "base_uri": "https://localhost:8080/"
        },
        "id": "7_iB_Mhesupj",
        "outputId": "b86b77c0-6212-4fb9-8c5c-e0ffcf09c490"
      },
      "execution_count": null,
      "outputs": [
        {
          "output_type": "execute_result",
          "data": {
            "text/plain": [
              "range(10, 15)"
            ]
          },
          "metadata": {},
          "execution_count": 42
        }
      ]
    },
    {
      "cell_type": "markdown",
      "source": [
        "For Loop\n",
        "\n",
        "- Realizan una tarea una y otra vez\n",
        "\n",
        "\n",
        "\n",
        "```\n",
        "names_1=[\"Fernanda\", \"Alejandra\", \"Lucia\", 'María', 'Erika']\n",
        "for names_1 in names_1 (0,5):\n",
        "\n",
        "\n",
        "names_1=[\"Fernanda\", \"Alejandra\", \"Lucia\", 'María', 'Erika']\n",
        "for i, names_1 in enumerate(names_1):\n",
        "```\n",
        "\n"
      ],
      "metadata": {
        "id": "vy2KG-uZuVTY"
      }
    },
    {
      "cell_type": "markdown",
      "source": [
        "While Loop \n",
        "\n",
        "\n",
        "```\n",
        "squares=['orange','orange','purple','blue']\n",
        "Newsquares=[]\n",
        "i=0\n",
        "while(squares[i]=='orange'):\n",
        "  Newsquares.append(squares[(i])\n",
        "i=i+1\n",
        "```\n",
        "\n"
      ],
      "metadata": {
        "id": "LNLYVQFf1vkL"
      }
    },
    {
      "cell_type": "code",
      "source": [
        "dates = [1982,1980,1973]\n",
        "N = len(dates)\n",
        "\n",
        "for i in range(N):\n",
        "    print(dates[i]) "
      ],
      "metadata": {
        "colab": {
          "base_uri": "https://localhost:8080/"
        },
        "id": "ql4l6_g73coa",
        "outputId": "830ac6a2-5acd-4e63-a249-5f79b9ec662c"
      },
      "execution_count": null,
      "outputs": [
        {
          "output_type": "stream",
          "name": "stdout",
          "text": [
            "1982\n",
            "1980\n",
            "1973\n"
          ]
        }
      ]
    },
    {
      "cell_type": "code",
      "source": [
        "squares = ['red', 'yellow', 'green', 'purple', 'blue']\n",
        "\n",
        "for i in range(0, 5):\n",
        "    print(\"Before square \", i, 'is',  squares[i])\n",
        "    squares[i] = 'white'\n",
        "    print(\"After square \", i, 'is',  squares[i])"
      ],
      "metadata": {
        "colab": {
          "base_uri": "https://localhost:8080/"
        },
        "id": "jU9dXlrc3iQI",
        "outputId": "4b9bdffc-42f2-41a3-f946-d5834d9aec73"
      },
      "execution_count": null,
      "outputs": [
        {
          "output_type": "stream",
          "name": "stdout",
          "text": [
            "Before square  0 is red\n",
            "After square  0 is white\n",
            "Before square  1 is yellow\n",
            "After square  1 is white\n",
            "Before square  2 is green\n",
            "After square  2 is white\n",
            "Before square  3 is purple\n",
            "After square  3 is white\n",
            "Before square  4 is blue\n",
            "After square  4 is white\n"
          ]
        }
      ]
    },
    {
      "cell_type": "code",
      "source": [
        "squares=['red', 'yellow', 'green', 'purple', 'blue']\n",
        "\n",
        "for i, square in enumerate(squares):\n",
        "    print(i, square)"
      ],
      "metadata": {
        "colab": {
          "base_uri": "https://localhost:8080/"
        },
        "id": "uz5GqjzA3lFp",
        "outputId": "bc9a1d2c-26ca-4ebd-9836-5b7d6832620c"
      },
      "execution_count": null,
      "outputs": [
        {
          "output_type": "stream",
          "name": "stdout",
          "text": [
            "0 red\n",
            "1 yellow\n",
            "2 green\n",
            "3 purple\n",
            "4 blue\n"
          ]
        }
      ]
    },
    {
      "cell_type": "code",
      "source": [
        "# While Loop Example\n",
        "\n",
        "dates = [1982, 1980, 1973, 2000]\n",
        "\n",
        "i = 0\n",
        "year = dates[0]\n",
        "\n",
        "while(year != 1973):    \n",
        "    print(year)\n",
        "    i = i + 1\n",
        "    year = dates[i]\n",
        "    \n",
        "\n",
        "print(\"It took \", i ,\"repetitions to get out of loop.\")"
      ],
      "metadata": {
        "colab": {
          "base_uri": "https://localhost:8080/"
        },
        "id": "Bkcyhank3mB8",
        "outputId": "79f0232a-4bd1-4f9b-9314-8e6ee6ef150c"
      },
      "execution_count": null,
      "outputs": [
        {
          "output_type": "stream",
          "name": "stdout",
          "text": [
            "1982\n",
            "1980\n",
            "It took  2 repetitions to get out of loop.\n"
          ]
        }
      ]
    },
    {
      "cell_type": "code",
      "source": [
        "# Write your code below and press Shift+Enter to execute\n",
        "for i in range(-4, 5):\n",
        "    print(i)"
      ],
      "metadata": {
        "colab": {
          "base_uri": "https://localhost:8080/"
        },
        "id": "2gqRLqPX3vO7",
        "outputId": "2b4b72fe-be00-4846-c151-0b0be8274038"
      },
      "execution_count": null,
      "outputs": [
        {
          "output_type": "stream",
          "name": "stdout",
          "text": [
            "-4\n",
            "-3\n",
            "-2\n",
            "-1\n",
            "0\n",
            "1\n",
            "2\n",
            "3\n",
            "4\n"
          ]
        }
      ]
    },
    {
      "cell_type": "code",
      "source": [
        "# Write your code below and press Shift+Enter to execute\n",
        "Genres = ['rock', 'R&B', 'Soundtrack', 'R&B', 'soul', 'pop']\n",
        "for Genre in Genres:\n",
        "    print(Genre)"
      ],
      "metadata": {
        "colab": {
          "base_uri": "https://localhost:8080/"
        },
        "id": "M1R2Yh_p3vgz",
        "outputId": "b6a50bae-7045-4fea-c7d6-523227e32503"
      },
      "execution_count": null,
      "outputs": [
        {
          "output_type": "stream",
          "name": "stdout",
          "text": [
            "rock\n",
            "R&B\n",
            "Soundtrack\n",
            "R&B\n",
            "soul\n",
            "pop\n"
          ]
        }
      ]
    },
    {
      "cell_type": "code",
      "source": [
        "# Write your code below and press Shift+Enter to execute\n",
        "squares=['red', 'yellow', 'green', 'purple', 'blue']\n",
        "for square in squares:\n",
        "    print(square)"
      ],
      "metadata": {
        "colab": {
          "base_uri": "https://localhost:8080/"
        },
        "id": "rVQItL613x0-",
        "outputId": "f7a627a2-a91f-498e-cbbd-2e1c496fbcd1"
      },
      "execution_count": null,
      "outputs": [
        {
          "output_type": "stream",
          "name": "stdout",
          "text": [
            "red\n",
            "yellow\n",
            "green\n",
            "purple\n",
            "blue\n"
          ]
        }
      ]
    },
    {
      "cell_type": "code",
      "source": [
        "# Write your code below and press Shift+Enter to execute\n",
        "PlayListRatings = [10, 9.5, 10, 8, 7.5, 5, 10, 10]\n",
        "i = 0\n",
        "Rating = PlayListRatings[0]\n",
        "while(i < len(PlayListRatings) and Rating >= 6):\n",
        "    print(Rating)\n",
        "    i = i + 1 \n",
        "    # This prints the value 10 only once \n",
        "    Rating = PlayListRatings[i]\n",
        "    i = i + 1 \n",
        "    #Try uncommenting the line and comment the previous i = i + 1, and see the difference, 10 value will get printed twice because when the loop starts it will print Rating and then with PlayListRatings[0], it will again assign the value 10 to Ratings. \n",
        "    "
      ],
      "metadata": {
        "colab": {
          "base_uri": "https://localhost:8080/"
        },
        "id": "tfFLAMla31Pf",
        "outputId": "0f8d2d34-2251-4f4b-ab0c-43188050b466"
      },
      "execution_count": null,
      "outputs": [
        {
          "output_type": "stream",
          "name": "stdout",
          "text": [
            "10\n",
            "9.5\n",
            "8\n"
          ]
        }
      ]
    },
    {
      "cell_type": "code",
      "source": [
        "# Write your code below and press Shift+Enter to execute\n",
        "\n",
        "squares = ['orange', 'orange', 'purple', 'blue ', 'orange']\n",
        "new_squares = []\n",
        "i = 0\n",
        "while(i < len(squares) and squares[i] == 'orange'):\n",
        "    new_squares.append(squares[i])\n",
        "    i = i + 1\n",
        "print (new_squares)"
      ],
      "metadata": {
        "colab": {
          "base_uri": "https://localhost:8080/"
        },
        "id": "epWdInNk35Tw",
        "outputId": "cd9271d5-f455-4eb7-a1ad-d5dfc4cdcb16"
      },
      "execution_count": null,
      "outputs": [
        {
          "output_type": "stream",
          "name": "stdout",
          "text": [
            "['orange', 'orange']\n"
          ]
        }
      ]
    },
    {
      "cell_type": "markdown",
      "source": [],
      "metadata": {
        "id": "3U6A2qZcc8Mo"
      }
    },
    {
      "cell_type": "markdown",
      "source": [
        "Funciones\n",
        "\n",
        "- Toman alguna entrada y luego producen alguna salida o cambio\n",
        "- Es solo un fragmento de código que puede reutilizar\n"
      ],
      "metadata": {
        "id": "CX1XZHYp5RRt"
      }
    },
    {
      "cell_type": "markdown",
      "source": [
        "Len\n",
        "- Cuenta cuantos elementos existen\n",
        "\n",
        "Sum\n",
        "- Total de la suma de los elementos\n",
        "\n",
        "\n",
        "-\n",
        "\n",
        "FORMAS DE ORDENAR UNA LISTA \n",
        "\n",
        "\n",
        "Sorted\n",
        "- Function\n",
        "- Devuelve una lista o truple ordenada\n",
        "\n",
        "\n",
        "```\n",
        "album_ratings=[10.0,8.5,9.5,7.0,7.0,9.5,9.0,9.5]\n",
        "sorted_album_rating = sorted (album _ratings)\n",
        "\n",
        "sorted album rating:\n",
        "[7.0, 7.0, 8.5, 9.0, 9.5, 9.5, 9.5, 10.0]\n",
        "\n",
        "album ratings:\n",
        "[10.0,8.5,9.5,7.0,7.0,9.5,9.0,9.5]\n",
        "\n",
        "```\n",
        "\n",
        "Sort\n",
        "- Method\n",
        "- Clasificación de lista\n",
        "- La lista cambiará y no se creará ninguna lista nueva\n",
        "\n",
        "\n",
        "```\n",
        "album_ratings=[10.0,8.5,9.5,7.0,7.0,9.5,9.0,9.5]\n",
        "\n",
        "album_ratings.sort()\n",
        "\n",
        "album rating:\n",
        "[7.0, 7.0, 8.5, 9.0, 9.5, 9.5, 9.5, 10.0]\n",
        "```\n",
        "\n",
        "\n"
      ],
      "metadata": {
        "id": "6FNoMV2o6Ii3"
      }
    },
    {
      "cell_type": "markdown",
      "source": [
        "Making Functions\n",
        "\n",
        "Definir una función: def\n",
        "\n",
        "\n",
        "\n",
        "```\n",
        "def add1(a):\n",
        "\n",
        "b=a+1\n",
        "\n",
        "return b\n",
        "```\n",
        "\n"
      ],
      "metadata": {
        "id": "ggCMuKBlfeBj"
      }
    },
    {
      "cell_type": "code",
      "source": [
        "def add1(a):\n",
        "  b=a+1\n",
        "  return b"
      ],
      "metadata": {
        "id": "pdPoyX33fGqa"
      },
      "execution_count": null,
      "outputs": []
    },
    {
      "cell_type": "code",
      "source": [
        "add1(5)\n"
      ],
      "metadata": {
        "colab": {
          "base_uri": "https://localhost:8080/"
        },
        "id": "VMNLeuAB5Sfy",
        "outputId": "77382f01-2516-4473-9556-0c40b3302578"
      },
      "execution_count": null,
      "outputs": [
        {
          "output_type": "execute_result",
          "data": {
            "text/plain": [
              "6"
            ]
          },
          "metadata": {},
          "execution_count": 64
        }
      ]
    },
    {
      "cell_type": "code",
      "source": [
        "c=add1(10)"
      ],
      "metadata": {
        "id": "gTI-lOquiO8p"
      },
      "execution_count": null,
      "outputs": []
    },
    {
      "cell_type": "code",
      "source": [
        "c"
      ],
      "metadata": {
        "colab": {
          "base_uri": "https://localhost:8080/"
        },
        "id": "ZJYhgp2biQ28",
        "outputId": "3758dc8b-7163-4e1a-8579-965b8d814e3d"
      },
      "execution_count": null,
      "outputs": [
        {
          "output_type": "execute_result",
          "data": {
            "text/plain": [
              "11"
            ]
          },
          "metadata": {},
          "execution_count": 67
        }
      ]
    },
    {
      "cell_type": "markdown",
      "source": [
        "Multiple Parameters\n",
        "\n",
        "- A function can have multiple parameters\n",
        "\n",
        "Mult\n",
        "\n",
        "```\n",
        "def Mult(a,b):\n",
        "  c=a*b\n",
        "  return c\n",
        "```\n",
        "\n"
      ],
      "metadata": {
        "id": "3q1utZfJjpAB"
      }
    },
    {
      "cell_type": "code",
      "source": [
        "def Mult(a,b):\n",
        "  c=a*b\n",
        "  return c"
      ],
      "metadata": {
        "id": "b9MHSGp4iawW"
      },
      "execution_count": null,
      "outputs": []
    },
    {
      "cell_type": "code",
      "source": [
        "Mult(2,3)"
      ],
      "metadata": {
        "colab": {
          "base_uri": "https://localhost:8080/"
        },
        "id": "l3gsNbKtkJzP",
        "outputId": "ad90b081-19dc-4241-d44b-3403651f248d"
      },
      "execution_count": null,
      "outputs": [
        {
          "output_type": "execute_result",
          "data": {
            "text/plain": [
              "6"
            ]
          },
          "metadata": {},
          "execution_count": 72
        }
      ]
    },
    {
      "cell_type": "code",
      "source": [
        "Mult(10,3.14)"
      ],
      "metadata": {
        "colab": {
          "base_uri": "https://localhost:8080/"
        },
        "id": "dWlitoM-kKqF",
        "outputId": "8929e21c-fb9d-4b14-b386-8932b81e980c"
      },
      "execution_count": null,
      "outputs": [
        {
          "output_type": "execute_result",
          "data": {
            "text/plain": [
              "31.400000000000002"
            ]
          },
          "metadata": {},
          "execution_count": 74
        }
      ]
    },
    {
      "cell_type": "code",
      "source": [
        "Mult(2, \"TS\")"
      ],
      "metadata": {
        "colab": {
          "base_uri": "https://localhost:8080/",
          "height": 35
        },
        "id": "l0Pms63zkMev",
        "outputId": "ce7cd39c-572c-4f44-f6e7-dad0ee888831"
      },
      "execution_count": null,
      "outputs": [
        {
          "output_type": "execute_result",
          "data": {
            "text/plain": [
              "'TSTS'"
            ],
            "application/vnd.google.colaboratory.intrinsic+json": {
              "type": "string"
            }
          },
          "metadata": {},
          "execution_count": 75
        }
      ]
    },
    {
      "cell_type": "code",
      "source": [
        "def MJ():\n",
        "  print(\"Michael Jackson\")"
      ],
      "metadata": {
        "id": "dzd9sTzukNFI"
      },
      "execution_count": null,
      "outputs": []
    },
    {
      "cell_type": "code",
      "source": [
        "MJ()"
      ],
      "metadata": {
        "colab": {
          "base_uri": "https://localhost:8080/"
        },
        "id": "6RiXHl0FkuJ3",
        "outputId": "2075bebe-3238-4f20-ebfc-75fe583abb08"
      },
      "execution_count": null,
      "outputs": [
        {
          "output_type": "stream",
          "name": "stdout",
          "text": [
            "Michael Jackson\n"
          ]
        }
      ]
    },
    {
      "cell_type": "code",
      "source": [
        "def NoWork():\n",
        "    pass\n",
        "print(NoWork())"
      ],
      "metadata": {
        "colab": {
          "base_uri": "https://localhost:8080/"
        },
        "id": "qoj9dzbQk2Ha",
        "outputId": "b199eabc-737f-4343-fb5e-273654bdbdc1"
      },
      "execution_count": null,
      "outputs": [
        {
          "output_type": "stream",
          "name": "stdout",
          "text": [
            "None\n"
          ]
        }
      ]
    },
    {
      "cell_type": "code",
      "source": [
        "def add2(a):\n",
        "    b=a+1;\n",
        "\n"
      ],
      "metadata": {
        "id": "6OK-nvzLlBS6"
      },
      "execution_count": null,
      "outputs": []
    },
    {
      "cell_type": "code",
      "source": [
        "ArtistNames=(\"Taylor Swift\", \"Olivia Rodrigo\", \"Katy Perry\", \"Tini\")"
      ],
      "metadata": {
        "id": "SJOmO2mYmjew"
      },
      "execution_count": null,
      "outputs": []
    },
    {
      "cell_type": "code",
      "source": [
        "def ArtistNames(*names):\n",
        "  for name in names:\n",
        "    print(name)"
      ],
      "metadata": {
        "id": "hOU6dumkoDht"
      },
      "execution_count": null,
      "outputs": []
    },
    {
      "cell_type": "code",
      "source": [],
      "metadata": {
        "id": "zPYGc30ZpcUT"
      },
      "execution_count": null,
      "outputs": []
    }
  ]
}